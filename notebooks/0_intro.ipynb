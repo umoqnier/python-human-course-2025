{
 "cells": [
  {
   "cell_type": "markdown",
   "id": "0e290f19-9f8e-4c7f-a142-3f0159acb352",
   "metadata": {
    "editable": true,
    "slideshow": {
     "slide_type": "slide"
    },
    "tags": []
   },
   "source": [
    "# Aprendiendo a programar con `python`, un enfoque humanista"
   ]
  },
  {
   "cell_type": "markdown",
   "id": "70c041fc-c668-45df-bd05-d7b9e7a898f9",
   "metadata": {
    "editable": true,
    "slideshow": {
     "slide_type": "slide"
    },
    "tags": []
   },
   "source": [
    "<center><img src=\"img/profe_meme.jpg\"></center>"
   ]
  },
  {
   "cell_type": "markdown",
   "id": "aad1b706-3e1c-4b3f-a786-fd26ac45eda5",
   "metadata": {
    "editable": true,
    "slideshow": {
     "slide_type": "subslide"
    },
    "tags": []
   },
   "source": [
    "## Sobre mi"
   ]
  },
  {
   "cell_type": "markdown",
   "id": "ba56d08f-c273-4381-8a04-a9372c1097d7",
   "metadata": {
    "editable": true,
    "slideshow": {
     "slide_type": "fragment"
    },
    "tags": []
   },
   "source": [
    "- Me llamo Diego Barriga (asi es como el Sr. Barriga)\n",
    "    - Ingeniero en computación por la Facultad de Ingeniería, UNAM\n",
    "    - Ayudante del laboratorio de programación en materias de Ciencias de la Computación\n",
    "        - Lingüística Computacional\n",
    "        - Compiladores \n",
    "    - Ex-Meli MLOps engineer 📦\n",
    "    - Recien aceptado al posgrado de Ciencias de la Computación en el IIMAS, UNAM 🤓\n",
    "    - Desarrollador de software libre 🐧\n",
    "- Me late la cultura libre, la privacidad, el mango y hacer comunidad 👥\n",
    "    - Programo con nvim, uso GNU/Linux, leo scifi y ando en bici sin frenos 🚲\n",
    "\n",
    "![](img/me.jpg)"
   ]
  },
  {
   "cell_type": "markdown",
   "id": "f6b422f0-5f07-4a74-9bac-8501f45eef0c",
   "metadata": {
    "editable": true,
    "slideshow": {
     "slide_type": "fragment"
    },
    "tags": []
   },
   "source": [
    "### Mis comunidades\n",
    "\n",
    "- Comunidad Elotl 🌽\n",
    "- Laboratorio de Investigación y Desarrollo de Software Libre (LIDSoL), FI, UNAM 🔬\n",
    "- Python CDMX 🐍\n",
    "\n",
    "\n",
    "TODO: Logos de comunidades"
   ]
  },
  {
   "cell_type": "markdown",
   "id": "f7f12bb1-de88-4b10-a909-847777d29a7a",
   "metadata": {
    "editable": true,
    "slideshow": {
     "slide_type": "subslide"
    },
    "tags": []
   },
   "source": [
    "## Sobre ustedes"
   ]
  },
  {
   "cell_type": "markdown",
   "id": "c9806425-66c5-434c-83d6-fd53a5099f2e",
   "metadata": {
    "editable": true,
    "slideshow": {
     "slide_type": "fragment"
    },
    "tags": []
   },
   "source": [
    "### ¿Quienes son? (Nombre, aficiones, a que se dedican)\n",
    "\n",
    "### ¿Porqué les llama programar?\n",
    "\n",
    "### ¿Qué esperan aprender y obtener de este curso?"
   ]
  },
  {
   "cell_type": "markdown",
   "id": "a1cb1766-beac-401b-a45a-3b71839942e4",
   "metadata": {
    "editable": true,
    "slideshow": {
     "slide_type": "subslide"
    },
    "tags": []
   },
   "source": [
    "## Mi reflexión sobre porqué es importante que ustedes programen"
   ]
  },
  {
   "cell_type": "markdown",
   "id": "a3ad8ca7-6719-4560-854c-34951466e4ec",
   "metadata": {
    "editable": true,
    "slideshow": {
     "slide_type": "fragment"
    },
    "tags": []
   },
   "source": [
    "- Las cosas realmente chidas e importantes son necesariamente interdiciplinarias\n",
    "- Como humanistas ganan autosuficiencia tecnológica frente a los acontecimientos actuales\n",
    "- Aprender a programar altera tu forma de ver el mundo, la forma en que resuelves ciertos problemas y te ayuda a llegar a preguntas que difícilmente habías pensado\n",
    "- Automatización\n",
    "    -  Buscar en un archivo digital todos los parrafos que tengan ciertas palabras\n",
    "    -  Extraer y analizar información de como migran las aves\n",
    "    -  Detectar si una obra pertenece a cierta autora con cierto grado de confiabilidad\n",
    "    -  Crear una aplicación colaborativa para mapear los puestos callejeros más chidos de la ciudad (del mundo (?))"
   ]
  },
  {
   "cell_type": "markdown",
   "id": "aac6a899-de69-44ee-8086-311a25b4edf2",
   "metadata": {
    "editable": true,
    "slideshow": {
     "slide_type": "subslide"
    },
    "tags": []
   },
   "source": [
    "![](https://3.bp.blogspot.com/-YQJpc6EV2o0/WkzSnXS6gxI/AAAAAAAAox0/n-ibnlKQMTknksFQUFE3vKmgtIJt2_wrACLcBGAs/s1600/giphy%2B%25282%2529.gif)"
   ]
  },
  {
   "cell_type": "markdown",
   "id": "3e610841-b896-49d6-8141-1b9a07255373",
   "metadata": {
    "editable": true,
    "slideshow": {
     "slide_type": "subslide"
    },
    "tags": []
   },
   "source": [
    "![](https://3.bp.blogspot.com/-cyWFa-ak5kQ/WWeuzt_GKUI/AAAAAAAAADs/ycAgQyhDkXI3qb_U92VyAJtQE2J5qBn9gCLcBGAs/s1600/E10.gif)"
   ]
  },
  {
   "cell_type": "markdown",
   "id": "a3b92059-4f85-4738-8674-f44ddc5bdcd3",
   "metadata": {
    "editable": true,
    "slideshow": {
     "slide_type": "subslide"
    },
    "tags": []
   },
   "source": [
    "![](https://3.bp.blogspot.com/-1xQZzmGB2TA/VxJNC9kvnUI/AAAAAAAAQ_g/vgtivHPnG04Rxqnb9EeXC9Dv2PkMphtkgCLcB/s1600/qwq.gif)"
   ]
  },
  {
   "cell_type": "markdown",
   "id": "0d26afb5-5e18-4c64-8e83-ba0949fd5362",
   "metadata": {
    "editable": true,
    "slideshow": {
     "slide_type": ""
    },
    "tags": []
   },
   "source": [
    "## Programación de computadoras"
   ]
  },
  {
   "cell_type": "markdown",
   "id": "a854d3e6-12fa-4fc0-8444-5a855ab2d102",
   "metadata": {
    "editable": true,
    "slideshow": {
     "slide_type": ""
    },
    "tags": []
   },
   "source": [
    "- Las computadoras sirven para automatizar una amplia cantidad de cosas\n",
    "- En principio esto es cierto porque pueden ser programadas\n",
    "    * Un programa es una serie de pasos que la computadora sigue para completar una tarea\n",
    "- Un programa es un conjunto de instrucciones que le indican a una computadora como realizar alguna tarea\n",
    "- Las personas que se dedican a realizar programas de forma profesional se les llama desarrolladoræs de software\n",
    "    * Los programas son tambien llamados *software* o *apps*\n",
    "* El software es muy importante porque hace a las computadoras útiles (bueno, tambien la electricidad es importante) ⚡  \n",
    "* Hay software que nos ayuda a dibujar, contar, calcular o incluso a ¡crear más software!"
   ]
  },
  {
   "cell_type": "code",
   "execution_count": 3,
   "id": "357ad3e9-859b-45c2-84e2-67937e901e3e",
   "metadata": {},
   "outputs": [
    {
     "data": {
      "text/html": [
       "<center><iframe width='901' height='600' src='https://www.youtube.com/embed/U3CGMyjzlvM?controls=1'></iframe></center\n"
      ],
      "text/plain": [
       "<IPython.core.display.HTML object>"
      ]
     },
     "metadata": {},
     "output_type": "display_data"
    }
   ],
   "source": [
    "%%html\n",
    "<center><iframe width='901' height='600' src='https://www.youtube.com/embed/U3CGMyjzlvM?controls=1'></iframe></center"
   ]
  },
  {
   "cell_type": "markdown",
   "id": "f68c20e2-1404-4446-ae2e-46d8f60b8061",
   "metadata": {},
   "source": [
    "##  `Python` 🐍"
   ]
  },
  {
   "cell_type": "markdown",
   "id": "0d97ace9-9bf9-4430-adda-13ad8105ae2a",
   "metadata": {},
   "source": [
    "- `python` es un lenguaje de programación libre de alto nivel, multiparadigma\n",
    "    - Destacan su elegante sintaxis, que es de tipos dinámicos y que es \"interpretado\" (más bien es híbrido pero por ahora no importa mucho).\n",
    "    - Consecuencia de lo anterior, este lenguaje es ideal para scripting y desarrollo rápido de aplicaciones en muchas áreas.\n",
    "- Hay muchos lenguajes de programación con propositos particulares\n",
    "    - C\n",
    "    - Rust\n",
    "    - JavaScript\n",
    "    - Java\n",
    "- `python` es un lenguaje relativamente sencillo de aprender (aunque difícil de dominar)\n",
    "    - Tiene una comunidad muy grande\n",
    "    - Muchísimas bibliotecas (más sobre esto en el curso)\n",
    "        - [pypi](https://pypi.org/) \n",
    "    - Goza de una especial adopción en áreas como: *Natural Language Processing*, Análisis de datos, *Machine Learning*, *Web Scrapping* y más. "
   ]
  },
  {
   "cell_type": "markdown",
   "id": "26e22cbe-5722-41e0-9b70-683028af10d0",
   "metadata": {},
   "source": [
    "## ¿Qué veremos en este curso?"
   ]
  },
  {
   "cell_type": "markdown",
   "id": "1757c672-2aed-4f84-a593-1f7ee8a3ee47",
   "metadata": {
    "editable": true,
    "slideshow": {
     "slide_type": ""
    },
    "tags": []
   },
   "source": [
    "### Lo mínimos para escribir programas"
   ]
  },
  {
   "cell_type": "markdown",
   "id": "a879a6bb-326a-462c-994b-07af921337e7",
   "metadata": {
    "editable": true,
    "slideshow": {
     "slide_type": ""
    },
    "tags": []
   },
   "source": [
    "#### Entorno de desarrollo "
   ]
  },
  {
   "cell_type": "markdown",
   "id": "3a242e7f-651d-4ce5-8b50-d1664c237c56",
   "metadata": {},
   "source": [
    "- Instalación local\n",
    "- IDEs\n",
    "- Terminal\n",
    "- Notebooks"
   ]
  },
  {
   "cell_type": "markdown",
   "id": "6989135a-7a19-4925-a2ba-2352e798fec5",
   "metadata": {},
   "source": [
    "#### Elementos de programación con `python`"
   ]
  },
  {
   "cell_type": "markdown",
   "id": "c48e0db6-c41b-4da4-87c1-3e08f434d458",
   "metadata": {},
   "source": [
    "- Sobre computadoras\n",
    "- Paradigmas de lenguajes\n",
    "- Como diseñar programas"
   ]
  },
  {
   "cell_type": "markdown",
   "id": "dedfa714-a7c7-49ea-97a0-65bbf94d719a",
   "metadata": {},
   "source": [
    "### Python 101"
   ]
  },
  {
   "cell_type": "markdown",
   "id": "a5c57321-7a46-4c60-b13b-a5071fdd9fde",
   "metadata": {},
   "source": [
    "- Variables\n",
    "- Tipos de datos\n",
    "- Listas, Tuplas, Conjuntos\n",
    "- Diccionarios"
   ]
  },
  {
   "cell_type": "markdown",
   "id": "f159f1dc-4eac-4d5d-b7b1-ef31afdcd805",
   "metadata": {},
   "source": [
    "### Estructuras de control"
   ]
  },
  {
   "cell_type": "markdown",
   "id": "3939ce94-d69a-4925-a3df-d6f2196121f0",
   "metadata": {},
   "source": [
    "- Condicionales\n",
    "- Repetición o búcles"
   ]
  },
  {
   "cell_type": "markdown",
   "id": "13f4e1ab-8ac5-4708-9377-aa289727fb1e",
   "metadata": {},
   "source": [
    "### Funciones"
   ]
  },
  {
   "cell_type": "markdown",
   "id": "2f0ae20b-6bb7-4640-89c7-42cf4d7965d0",
   "metadata": {},
   "source": [
    "- Funciones simples\n",
    "- Funciones recursivas\n",
    "- `lambda`\n",
    "- Modulos"
   ]
  },
  {
   "cell_type": "markdown",
   "id": "c8d0e88b-aae8-4929-9a2a-a82f1f50645b",
   "metadata": {},
   "source": [
    "### Entrada y Salida (*I/O*)"
   ]
  },
  {
   "cell_type": "markdown",
   "id": "2bbfa219-6614-4407-bc17-d1339dc0be23",
   "metadata": {
    "editable": true,
    "slideshow": {
     "slide_type": ""
    },
    "tags": []
   },
   "source": [
    "- Entrada por línea de comandos\n",
    "- Entrada por teclado\n",
    "- Entrada desde archivos\n",
    "- Escritura en archivos\n",
    "  - Excepciones"
   ]
  },
  {
   "cell_type": "markdown",
   "id": "842b84b0-ed44-4638-b822-6adc45bb0fb8",
   "metadata": {},
   "source": [
    "### Programación orientada a Objetos (*POO*)"
   ]
  },
  {
   "cell_type": "markdown",
   "id": "dac5ba9e-dd04-41a3-8695-1280b75ad3c7",
   "metadata": {
    "editable": true,
    "slideshow": {
     "slide_type": ""
    },
    "tags": []
   },
   "source": [
    "- Fundamentos de POO\n",
    "- Clases\n",
    "- Instancia de objetos\n",
    "- Métodos\n",
    "- Herencia\n",
    "- Biblioteca estandar de python"
   ]
  },
  {
   "cell_type": "markdown",
   "id": "6c26be33-8362-4250-94b8-e1133baea860",
   "metadata": {},
   "source": [
    "### Temas selectos"
   ]
  },
  {
   "cell_type": "markdown",
   "id": "25765dab-2aff-4991-b116-151946fa5e59",
   "metadata": {
    "editable": true,
    "slideshow": {
     "slide_type": ""
    },
    "tags": []
   },
   "source": [
    "- Técnicas de *debugging*\n",
    "    - Buenas prácticas de código\n",
    "    - Logs\n",
    "    - `pdb` \n",
    "- Procesamiento del Lenguaje Natural\n",
    "    - Análisis automático de textos\n",
    "    - Modelando de vectores de palabras\n",
    "    - `spacy`\n",
    "- `pandas` para análisis de datos\n",
    "- Visualización de datos con `plotly`"
   ]
  },
  {
   "cell_type": "markdown",
   "id": "d8d6fbd3-bb42-4705-ba95-686b13a941f7",
   "metadata": {},
   "source": [
    "## Un demo"
   ]
  },
  {
   "cell_type": "code",
   "execution_count": 30,
   "id": "dc2daf56-9c55-419e-8f06-dee6b40268c3",
   "metadata": {
    "editable": true,
    "slideshow": {
     "slide_type": ""
    },
    "tags": []
   },
   "outputs": [
    {
     "name": "stdin",
     "output_type": "stream",
     "text": [
      "Ingresa la altura del arbol>  10\n"
     ]
    },
    {
     "name": "stdout",
     "output_type": "stream",
     "text": [
      "         #         \n",
      "        ###        \n",
      "       #####       \n",
      "      #######      \n",
      "     #########     \n",
      "    ###########    \n",
      "   #############   \n",
      "  ###############  \n",
      " ################# \n",
      "###################\n",
      "        ||\n"
     ]
    }
   ],
   "source": [
    "def imprime_arbol(altura_arbol: int, es_navidad=False) -> None:\n",
    "    espacios = altura_arbol - 1\n",
    "    relleno = 1\n",
    "    for i in range(0, altura_arbol):\n",
    "        for j in range(0, espacios):\n",
    "            print(\" \", end='')\n",
    "        for j in range(0, relleno):\n",
    "            if i == 0:\n",
    "                if es_navidad:\n",
    "                    print(\"🌟\", end='')\n",
    "                else:\n",
    "                    print(\"#\", end='')\n",
    "            else:\n",
    "                if es_navidad:\n",
    "                    if j % 2 != 0:\n",
    "                        print(\"°\", end=\"\")\n",
    "                    else:\n",
    "                        print(\"#\", end='')\n",
    "                else:\n",
    "                    print(\"#\", end='')\n",
    "        for j in range(0, espacios):\n",
    "            print(\" \", end='')\n",
    "        relleno += 2\n",
    "        espacios -= 1\n",
    "        print()\n",
    "    if es_navidad:\n",
    "        print(\" \" * (altura_arbol - 4), end='')\n",
    "        print(\"🎁||🎁\")\n",
    "    else:\n",
    "        print(\" \" * (altura_arbol - 2), end='')\n",
    "        print(\"||\")\n",
    "\n",
    "\n",
    "altura_arbol = int(input(\"Ingresa la altura del arbol> \"))\n",
    "imprime_arbol(altura_arbol)"
   ]
  },
  {
   "cell_type": "code",
   "execution_count": null,
   "id": "626a3e49-9640-409d-8fab-2a178eebdef0",
   "metadata": {},
   "outputs": [],
   "source": []
  }
 ],
 "metadata": {
  "kernelspec": {
   "display_name": "Python 3 (ipykernel)",
   "language": "python",
   "name": "python3"
  },
  "language_info": {
   "codemirror_mode": {
    "name": "ipython",
    "version": 3
   },
   "file_extension": ".py",
   "mimetype": "text/x-python",
   "name": "python",
   "nbconvert_exporter": "python",
   "pygments_lexer": "ipython3",
   "version": "3.12.8"
  }
 },
 "nbformat": 4,
 "nbformat_minor": 5
}
