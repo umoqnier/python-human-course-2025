{
 "cells": [
  {
   "cell_type": "markdown",
   "id": "1307488e-6929-4e54-bea5-b4f934493fd6",
   "metadata": {
    "editable": true,
    "slideshow": {
     "slide_type": ""
    },
    "tags": []
   },
   "source": [
    "# Lo mínimo para escribir programas"
   ]
  },
  {
   "cell_type": "markdown",
   "id": "ede2212a-8f52-4b69-a14c-93af3cd240d9",
   "metadata": {
    "editable": true,
    "slideshow": {
     "slide_type": ""
    },
    "tags": []
   },
   "source": [
    "## Entorno de desarrollo"
   ]
  },
  {
   "cell_type": "markdown",
   "id": "2f90aa47-3d28-4a7a-8fba-62e074f02df6",
   "metadata": {},
   "source": [
    "### Instalación local"
   ]
  },
  {
   "cell_type": "markdown",
   "id": "6c658bed-5924-4523-ba78-42e6571b3024",
   "metadata": {},
   "source": [
    "- [Windows](https://apps.microsoft.com/detail/9nrwmjp3717k?hl=es-MX&gl=US)\n",
    "- MAC\n",
    "- GNU/Linux"
   ]
  },
  {
   "cell_type": "markdown",
   "id": "70e2a238-6bf1-4243-8f8a-8d7e44abf67c",
   "metadata": {},
   "source": [
    "### Terminal 101"
   ]
  },
  {
   "cell_type": "markdown",
   "id": "84bdc1b6-dc8c-48c5-960a-b1ff47d87eea",
   "metadata": {},
   "source": [
    "- `cd`: cambiar de directorio\n",
    "- `pwd`: mostrar el directorio actual\n",
    "- `ls`: listar los archivos y directorios en el directorio actual\n",
    "- `mkdir`: crear un directorio\n",
    "- `touch`: crear un archivo vacío\n",
    "- `rm`: eliminar un archivo o directorio\n",
    "- `cp`: copiar un archivo o directorio\n",
    "- `mv`: mover o renombrar un archivo o directorio\n",
    "\n",
    "![](https://i.pinimg.com/originals/ee/c0/97/eec097ad46de5011264b4a71d7c292f5.gif)"
   ]
  },
  {
   "cell_type": "markdown",
   "id": "913a5e0b-41d6-4d03-a8a3-d7476732649a",
   "metadata": {},
   "source": [
    "## IDEs y editores"
   ]
  },
  {
   "cell_type": "markdown",
   "id": "64c0b86a-5c26-442d-a775-926a2846691b",
   "metadata": {},
   "source": [
    "- Visual Studio Code\n",
    "- Pycharm Community\n",
    "- nvim\n",
    "- Emacs\n",
    "\n",
    "<center><img src=\"https://download.logo.wine/logo/GNU_Emacs/GNU_Emacs-Logo.wine.png\" width=500></center>"
   ]
  },
  {
   "cell_type": "markdown",
   "id": "a9746eb6-e5a0-4001-9078-2e4d1cbb170e",
   "metadata": {},
   "source": [
    "## Notebooks"
   ]
  },
  {
   "cell_type": "markdown",
   "id": "12b54d47-d9ce-48f5-948b-18c92ccff4c2",
   "metadata": {},
   "source": [
    "- Entorno de desarrollo basado en interface web\n",
    "- Computación interactiva\n",
    "- Ampliamente usado en la comunidad científica\n",
    "    - Fáciles de compartir y reproducir\n",
    "\n",
    "![](https://jupyter.org/assets/homepage/labpreview.webp)\n",
    "\n",
    "- Hay servicios web que te permiten acceder a notebooks como [Google Colab](https://colab.research.google.com/)"
   ]
  },
  {
   "cell_type": "markdown",
   "id": "468c513e-72cf-4de9-b81f-c6fe4fa26e5e",
   "metadata": {},
   "source": [
    "## Elementos de programación con `python`"
   ]
  },
  {
   "cell_type": "markdown",
   "id": "3f8cabb5-7022-44fb-b719-08d79c442568",
   "metadata": {},
   "source": [
    "### Función `print()`"
   ]
  },
  {
   "cell_type": "markdown",
   "id": "9cf1c393-c8d4-4604-a61c-88d29511e827",
   "metadata": {},
   "source": [
    "- Una de las primeras cosas que aprendermos como programadoræs es a imprimir cosas en la pantalla\n",
    "- Los tutoriales generalmente inician con un \"Hola Mundo :)\"\n",
    "- Comenzaremos a programar saludando 👋🏼\n",
    "\n",
    "```python\n",
    "print(\"Hola mundo 🌎\")\n",
    "```"
   ]
  },
  {
   "cell_type": "code",
   "execution_count": 19,
   "id": "f158555c-5d4d-43de-9a3a-4b2475767937",
   "metadata": {},
   "outputs": [
    {
     "name": "stdout",
     "output_type": "stream",
     "text": [
      "Hola mundo Cruel y despiadado 🌎\n"
     ]
    }
   ],
   "source": [
    "print(\"Hola mundo Cruel y despiadado 🌎\")"
   ]
  },
  {
   "cell_type": "markdown",
   "id": "ce599fb2-33a8-4273-872a-d75a597dbd2b",
   "metadata": {},
   "source": [
    "### Objetos"
   ]
  },
  {
   "cell_type": "markdown",
   "id": "12e5c239-22bc-45f7-88a2-91f1003b6400",
   "metadata": {},
   "source": [
    "Al crear o cargar datos en `python`, en realidad estamos creando objetos en memoria (más detalles en la siguiente sesión). En general se utilizan las palabra **objetos** y **variables** de forma intercambiable aunque significan cosas ligeramente distintas. Por el momento basta con pensar que los objetos con cosas que son creadas y utilizadas por `python` y que son almacenadas en la memoria de nuestra computadora para ser usados en el futuro.\n",
    "\n",
    "> Pensemos que la memoria de nuestra computadora es como nuestra memoria. Si quisieramos recordar como se dice \"Gracias\" en Otomí accedemos a nuestra memoria y recodamos que es \"Jamädi\"\n",
    "- Source: https://tsunkua.elotl.mx/"
   ]
  },
  {
   "cell_type": "markdown",
   "id": "7bb4e6e4-fbd1-4252-b634-8554c494d272",
   "metadata": {},
   "source": [
    "### Variables"
   ]
  },
  {
   "cell_type": "markdown",
   "id": "bee2bcf8-7a22-41c2-9e20-2ecf45c954a4",
   "metadata": {},
   "source": [
    "Para hacer referencia a estos puntos de la memoria, necesitamos una forma de identificarles. Esto lo hacemos con **variables**. Una variable es el nombre de un elemento de nuestro programa que apunta a un objeto en memoria.\n",
    "\n",
    "Las variables nos permiten recuperar, llamar y cambiar ese objeto en memoria.\n",
    "\n",
    "Para crear una variable necesitamos asignar un nombre único, seguido del símbolo `=`, seguido de los datos específicos. Creemos nuestra primera variable con datos de tipo cadena"
   ]
  },
  {
   "cell_type": "code",
   "execution_count": 20,
   "id": "2608be8f-ed4d-48fd-b7b2-90b4c47ff992",
   "metadata": {},
   "outputs": [],
   "source": [
    "autora = \"Fernanda Melchor\""
   ]
  },
  {
   "cell_type": "markdown",
   "id": "76d9cebe-2627-4d84-a6aa-45e9a2945c36",
   "metadata": {},
   "source": [
    "Una vez creado nuestro objeto podemos utilizarlo. Por ejemplo, imprimamos un mensaje con nuestro objeto que esta cargado en memoria:"
   ]
  },
  {
   "cell_type": "code",
   "execution_count": 3,
   "id": "4a7ebe8a-36dc-4b94-9439-06bd1a498fb2",
   "metadata": {},
   "outputs": [
    {
     "name": "stdout",
     "output_type": "stream",
     "text": [
      "Fernanda Melchor\n"
     ]
    }
   ],
   "source": [
    "print(autora)"
   ]
  },
  {
   "cell_type": "markdown",
   "id": "40116714-11e4-4c4a-bb4a-c4549a1660e1",
   "metadata": {},
   "source": [
    "**NOTA:** `python` es sensible a mayúsculas y minúsculas (*case sensitivity*)"
   ]
  },
  {
   "cell_type": "code",
   "execution_count": 4,
   "id": "97b2b52a-fbcd-46b8-adb5-6d0a6f18f058",
   "metadata": {},
   "outputs": [
    {
     "ename": "NameError",
     "evalue": "name 'Autora' is not defined",
     "output_type": "error",
     "traceback": [
      "\u001b[31m---------------------------------------------------------------------------\u001b[39m",
      "\u001b[31mNameError\u001b[39m                                 Traceback (most recent call last)",
      "\u001b[36mCell\u001b[39m\u001b[36m \u001b[39m\u001b[32mIn[4]\u001b[39m\u001b[32m, line 1\u001b[39m\n\u001b[32m----> \u001b[39m\u001b[32m1\u001b[39m \u001b[38;5;28mprint\u001b[39m(\u001b[43mAutora\u001b[49m)\n",
      "\u001b[31mNameError\u001b[39m: name 'Autora' is not defined"
     ]
    }
   ],
   "source": [
    "print(Autora)"
   ]
  },
  {
   "cell_type": "markdown",
   "id": "47904388-e34c-425b-8534-a88bcef8e784",
   "metadata": {},
   "source": [
    "El bloque anterior nos indica que hemos producido un error 👺. Los mensajes de error suelen ser muy informativos y nos indican exactamente cual es el problema. Por ejemplo, la varable `Autora` no existe ni esta cargada en memoria por eso `python` se queja con un tipo de error específico `NameError`.\n",
    "\n",
    "Ahora utilizemos nuetra variable para salurar a nuestra autora favorita"
   ]
  },
  {
   "cell_type": "code",
   "execution_count": 11,
   "id": "41d33fc4-93bf-4a27-ad5f-7a8e249b8b36",
   "metadata": {},
   "outputs": [
    {
     "name": "stdout",
     "output_type": "stream",
     "text": [
      "Hola Fernanda Melchor. TQM 🤗\n"
     ]
    }
   ],
   "source": [
    "print(f\"Hola {autora}. TQM 🤗\")"
   ]
  },
  {
   "cell_type": "markdown",
   "id": "b87b9bc3-24c0-49c0-8898-fc34c204fc58",
   "metadata": {},
   "source": [
    "### Palabras reservadas"
   ]
  },
  {
   "cell_type": "markdown",
   "id": "71b84c85-9fbc-424d-8353-8830ab1b0492",
   "metadata": {},
   "source": [
    "`python` tiene un conjunto de palabras reservadas. Estas palabras no pueden ser usadas como nombres de variables. No hace falta recordarlas, podemos acceder a ellas fácilmente:"
   ]
  },
  {
   "cell_type": "code",
   "execution_count": 9,
   "id": "74744a9d-5901-4499-8e82-f80bbe401e9b",
   "metadata": {},
   "outputs": [
    {
     "name": "stdout",
     "output_type": "stream",
     "text": [
      "\n",
      "Here is a list of the Python keywords.  Enter any keyword to get more help.\n",
      "\n",
      "False               class               from                or\n",
      "None                continue            global              pass\n",
      "True                def                 if                  raise\n",
      "and                 del                 import              return\n",
      "as                  elif                in                  try\n",
      "assert              else                is                  while\n",
      "async               except              lambda              with\n",
      "await               finally             nonlocal            yield\n",
      "break               for                 not                 \n",
      "\n"
     ]
    }
   ],
   "source": [
    "help(\"keywords\")"
   ]
  },
  {
   "cell_type": "code",
   "execution_count": 13,
   "id": "2515f141-5e6a-4727-8571-b20e70814e9e",
   "metadata": {},
   "outputs": [
    {
     "ename": "SyntaxError",
     "evalue": "invalid syntax (4224462573.py, line 1)",
     "output_type": "error",
     "traceback": [
      "  \u001b[36mCell\u001b[39m\u001b[36m \u001b[39m\u001b[32mIn[13]\u001b[39m\u001b[32m, line 1\u001b[39m\n\u001b[31m    \u001b[39m\u001b[31min = \"hola\"\u001b[39m\n    ^\n\u001b[31mSyntaxError\u001b[39m\u001b[31m:\u001b[39m invalid syntax\n"
     ]
    }
   ],
   "source": [
    "in = \"hola\""
   ]
  },
  {
   "cell_type": "markdown",
   "id": "a6fc171f-cdf9-420c-8415-c63c22abb4ea",
   "metadata": {},
   "source": [
    "### Función `type`"
   ]
  },
  {
   "cell_type": "markdown",
   "id": "066e8510-af02-4f48-827e-8cba29d0d4ca",
   "metadata": {},
   "source": [
    "Probablemente necesitemos saber que tipo de dato es el que contiene una variable. Para identificarlo podemos usar la función `type()`"
   ]
  },
  {
   "cell_type": "code",
   "execution_count": 17,
   "id": "0d76e3dd-e0be-47d5-8eb3-55728ef4d1f9",
   "metadata": {},
   "outputs": [
    {
     "name": "stdout",
     "output_type": "stream",
     "text": [
      "<class 'str'>\n",
      "<class 'int'>\n",
      "<class 'str'>\n",
      "<class 'float'>\n",
      "<class 'bool'>\n"
     ]
    }
   ],
   "source": [
    "print(type(\"Soy una cadena\"))\n",
    "print(type(1))\n",
    "print(type(\"1\"))\n",
    "print(type(3.14159))\n",
    "print(type(False))"
   ]
  },
  {
   "cell_type": "markdown",
   "id": "7d3892a9-61ea-4b6b-8dff-da21c3c1a5b6",
   "metadata": {},
   "source": [
    "### Bugs 🐞"
   ]
  },
  {
   "cell_type": "markdown",
   "id": "abd7195b-4e3d-4110-85da-6497322e9ae9",
   "metadata": {},
   "source": [
    "Seguro han escuchado hablar de *bugs* en programación. Un *bug* es un problema con el código. Estos problemas pueden causar un error o resultados indeseados en la salida del programa. \n",
    "\n",
    "A la práctica de buscar, atrapar y reparar estos problemas se le conoce como **debugging**. Esta práctica puede ser una de las más complejas y tardades de programar. \n",
    "\n",
    "En el curso veremos buenas prácticas de código para minimizar los *bugs* y exploraremos herramientas que nos asistiran en esta tarea tan compleja.\n",
    "\n",
    "![](https://1.bp.blogspot.com/-2OfjVcRmO3Y/YOFp6oebBBI/AAAAAAAAFPE/p1dwYmHgqMMpHlgBFMhEByhicHUmJ1pWwCLcBGAsYHQ/s736/Me%2Bdebugging%2Bthe%2Bbug%2Bmemes.jpg)"
   ]
  },
  {
   "cell_type": "markdown",
   "id": "8124a16a-57a1-4f2d-a342-88921c1be26e",
   "metadata": {},
   "source": [
    "#### Una historia graciosa\n",
    "\n",
    "- 9 de Setiembre de 1947, un equipo de cientificas en computación, lidereado por Grace Hopper (AKA *Amazing Grace*), detectaron un problema en la computadora Harvard Mark II en Cambridge, Massachusetts. Era una polilla frita entre el cableado de la computadora. En el reporte se incluyó la polilla como prueba:\n",
    "\n",
    "![](https://twistedsifter.com/wp-content/uploads/2022/09/First_Computer_Bug_1945-1.jpg)\n",
    "> sauce - https://www.computerhistory.org/tdih/september/9/"
   ]
  },
  {
   "cell_type": "markdown",
   "id": "b37a56f6-1758-48b6-b284-358f5c09f395",
   "metadata": {},
   "source": [
    "### Ambiente interactivo (*Read Eval Print Loop, REPL*)"
   ]
  },
  {
   "cell_type": "markdown",
   "id": "41cfdc59-bc75-4a4c-8529-6b5f8aa1973d",
   "metadata": {},
   "source": [
    "- Inicia el ambiente interactivo en terminal con `$ python`\n",
    "- Imprimamos algunos mensajes\n",
    "- Ejecuta `>> import this`\n",
    "- Realiza algunas operaciones aritméticas"
   ]
  },
  {
   "cell_type": "code",
   "execution_count": 18,
   "id": "32a67295-c991-4142-9a69-63fca4aca8db",
   "metadata": {},
   "outputs": [
    {
     "name": "stdout",
     "output_type": "stream",
     "text": [
      "The Zen of Python, by Tim Peters\n",
      "\n",
      "Beautiful is better than ugly.\n",
      "Explicit is better than implicit.\n",
      "Simple is better than complex.\n",
      "Complex is better than complicated.\n",
      "Flat is better than nested.\n",
      "Sparse is better than dense.\n",
      "Readability counts.\n",
      "Special cases aren't special enough to break the rules.\n",
      "Although practicality beats purity.\n",
      "Errors should never pass silently.\n",
      "Unless explicitly silenced.\n",
      "In the face of ambiguity, refuse the temptation to guess.\n",
      "There should be one-- and preferably only one --obvious way to do it.\n",
      "Although that way may not be obvious at first unless you're Dutch.\n",
      "Now is better than never.\n",
      "Although never is often better than *right* now.\n",
      "If the implementation is hard to explain, it's a bad idea.\n",
      "If the implementation is easy to explain, it may be a good idea.\n",
      "Namespaces are one honking great idea -- let's do more of those!\n"
     ]
    }
   ],
   "source": [
    "import this"
   ]
  },
  {
   "cell_type": "markdown",
   "id": "46424b96-e32c-430c-be18-0e86363ba8a9",
   "metadata": {},
   "source": [
    "## Entendiendo las computadoras (un poco)"
   ]
  },
  {
   "cell_type": "markdown",
   "id": "cba51417-61ed-4fb7-b430-b3f41b649df1",
   "metadata": {},
   "source": [
    "> Estan en todas partes (incluso detrás de ti ¡voltea ahora!). Las computadoras pueden realizar una gran variedad de tareas porque pueden ser programadas para ello. En este sentido, las computadoras no estan diseñadas para un solo trabajo (al menos la mayoría no)"
   ]
  },
  {
   "cell_type": "markdown",
   "id": "f34f398a-8f43-425b-8e0e-0132dc6f85c0",
   "metadata": {},
   "source": [
    "![](https://images3.memedroid.com/images/UPLOADED429/6279338d2af4d.jpeg)"
   ]
  },
  {
   "cell_type": "markdown",
   "id": "026f249b-763e-4ee0-98f7-a9926e7e4f6e",
   "metadata": {},
   "source": [
    "### CPU (Central Procesing Unit)"
   ]
  },
  {
   "cell_type": "markdown",
   "id": "fe7ff3e3-fbb8-4d94-9f59-c4b1790fdc47",
   "metadata": {},
   "source": [
    "Conocido como el *cerebro* de la computadora. En realidad no es un cerebro, solo entiende codigo binario y hace tareas pequeñas muy rápido. Por ejemplo, sumar dos números, leer datos de la memoria, determinar si un número es igual a otro, mover un número de un lugar en la memoria a otro lugar, entre otras  "
   ]
  },
  {
   "cell_type": "markdown",
   "id": "db77a9ea-3d24-4b30-9d3f-c6b3933d83fe",
   "metadata": {},
   "source": [
    "![](https://www.pcgamesn.com/wp-content/sites/pcgamesn/2017/09/cpu-upgrade.jpg)"
   ]
  },
  {
   "cell_type": "markdown",
   "id": "9dca2154-2c28-447a-a7c1-14e67f991756",
   "metadata": {},
   "source": [
    "### Memoria principal"
   ]
  },
  {
   "cell_type": "markdown",
   "id": "26023734-505a-43e2-8c3c-ce80ffb1f131",
   "metadata": {},
   "source": [
    "Tambien conocida como la memoria RAM (Random Access Memory). En esta memoria se almacenan los programas y sus datos mientras se ejecutan. Por ejemplo, su usas Libreoffice para escribir una carta tanto el programa como el contenido de tu carta estarán en memoria RAM.\n",
    "\n",
    "Esta memoria es de tipo volatil porque al quitarle la energía (apagar la computadora) toda la información contenida se borrará."
   ]
  },
  {
   "cell_type": "markdown",
   "id": "588f10a4-1b46-4463-892f-a395d490a70f",
   "metadata": {},
   "source": [
    "![](https://images3.memedroid.com/images/UPLOADED240/5e48a4e26b9db.jpeg)"
   ]
  },
  {
   "cell_type": "markdown",
   "id": "7d840258-ce70-48b0-845a-c9576b4b05ad",
   "metadata": {},
   "source": [
    "### Memoria secundaria"
   ]
  },
  {
   "cell_type": "markdown",
   "id": "02fa7ddd-9120-4355-ac77-a1faa5d4a99d",
   "metadata": {},
   "source": [
    "Tambien conocida como Discos Duros, Discos de estado solido, USB, CD, DVD, 3.3, 5.25. Estas memorias con para almacenar información a largo plazo. Son del tipo no volatil ya que al quitar la energía no se borra la información. Generalmente los programas importan datos desde esta memoria y los cargan en la memoria principal. "
   ]
  },
  {
   "cell_type": "markdown",
   "id": "5fe08e47-a3a3-4805-985c-ba0550a5967d",
   "metadata": {},
   "source": [
    "![](https://i.pinimg.com/originals/5b/1f/75/5b1f75f34ec9c30acc8c05a85195bd7d.jpg)"
   ]
  },
  {
   "cell_type": "markdown",
   "id": "d1d7a3d9-9823-4f92-83ec-1064fd6b512e",
   "metadata": {},
   "source": [
    "### Dispositivos de entrada/salida"
   ]
  },
  {
   "cell_type": "markdown",
   "id": "75ba7dda-0432-4585-82fa-b9751e09f86e",
   "metadata": {},
   "source": [
    "Pueden ser teclados, cámaras, impresoras, mouses, pantallas táctiles, escáners, micrófonos, pantallas y más"
   ]
  },
  {
   "cell_type": "code",
   "execution_count": 22,
   "id": "aadf3006-a80b-4438-a6cf-ae4aa8ea46c4",
   "metadata": {},
   "outputs": [
    {
     "data": {
      "text/html": [
       "\n",
       "<center><iframe width='901' height='600' src='https://www.youtube.com/embed/UhpTiWyVa6k?controls=1&t=210'></iframe></center\n"
      ],
      "text/plain": [
       "<IPython.core.display.HTML object>"
      ]
     },
     "metadata": {},
     "output_type": "display_data"
    }
   ],
   "source": [
    "%%html\n",
    "\n",
    "<center><iframe width='901' height='600' src='https://www.youtube.com/embed/UhpTiWyVa6k?controls=1&t=210'></iframe></center"
   ]
  },
  {
   "cell_type": "markdown",
   "id": "7c6c2863-7c13-4fb2-97f7-5032622976b0",
   "metadata": {},
   "source": [
    "## Lenguajes de programación"
   ]
  },
  {
   "cell_type": "markdown",
   "id": "1df09cc9-2bb6-4238-811c-a72e3808a06c",
   "metadata": {
    "editable": true,
    "slideshow": {
     "slide_type": ""
    },
    "tags": []
   },
   "source": [
    "El CPU solo entiende un lenguaje y es binario\n",
    "\n",
    "```\n",
    "01110111 01100001 01101011 01100101 00100000 01110101 01110000 00100000 01101110 01100101 01101111\n",
    "\n",
    "00100000 01100110 01101111 01101100 01101100 01101111 01110111 00100000 01110100 01101000 01100101 00100000 01110111 01101000 01101001 01110100 01100101 00100000 01110010 01100001 01100010 01100010 01101001 01110100 \n",
    "```\n",
    "\n",
    "Como mucha gente encuentra complicado programar en lenguaje binario se crearon lenguajes más amigables para los humanos (según). [Ejemplos](https://www.wikiwand.com/es/Anexo:Ejemplos_de_implementaci%C3%B3n_del_%C2%ABHola_mundo%C2%BB)"
   ]
  },
  {
   "cell_type": "code",
   "execution_count": null,
   "id": "dccb5152-765a-46d9-a78f-5d803972a009",
   "metadata": {},
   "outputs": [],
   "source": []
  }
 ],
 "metadata": {
  "kernelspec": {
   "display_name": "Python 3 (ipykernel)",
   "language": "python",
   "name": "python3"
  },
  "language_info": {
   "codemirror_mode": {
    "name": "ipython",
    "version": 3
   },
   "file_extension": ".py",
   "mimetype": "text/x-python",
   "name": "python",
   "nbconvert_exporter": "python",
   "pygments_lexer": "ipython3",
   "version": "3.12.8"
  }
 },
 "nbformat": 4,
 "nbformat_minor": 5
}
