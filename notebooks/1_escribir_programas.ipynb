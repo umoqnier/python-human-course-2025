{
 "cells": [
  {
   "cell_type": "markdown",
   "id": "4a3272b9-6f52-4570-b0a9-c16a84944bf6",
   "metadata": {
    "editable": true,
    "slideshow": {
     "slide_type": ""
    },
    "tags": []
   },
   "source": [
    "<p align=\"center\">\n",
    "<a target=\"_blank\" href=\"https://colab.research.google.com/github/umoqnier/python-human-course-2025/blob/main/notebooks/1_escribir_programas.ipynb\">\n",
    "    <img src=\"https://colab.research.google.com/assets/colab-badge.svg\" alt=\"Open In Colab\"/>\n",
    "</a>\n",
    "</p> "
   ]
  },
  {
   "cell_type": "markdown",
   "id": "1307488e-6929-4e54-bea5-b4f934493fd6",
   "metadata": {
    "editable": true,
    "slideshow": {
     "slide_type": "subslide"
    },
    "tags": []
   },
   "source": [
    "# Lo mínimo para escribir programas"
   ]
  },
  {
   "cell_type": "markdown",
   "id": "ede2212a-8f52-4b69-a14c-93af3cd240d9",
   "metadata": {
    "editable": true,
    "slideshow": {
     "slide_type": "subslide"
    },
    "tags": []
   },
   "source": [
    "## Entorno de desarrollo"
   ]
  },
  {
   "cell_type": "markdown",
   "id": "2f90aa47-3d28-4a7a-8fba-62e074f02df6",
   "metadata": {
    "editable": true,
    "slideshow": {
     "slide_type": "fragment"
    },
    "tags": []
   },
   "source": [
    "### Instalación local"
   ]
  },
  {
   "cell_type": "markdown",
   "id": "6c658bed-5924-4523-ba78-42e6571b3024",
   "metadata": {
    "editable": true,
    "slideshow": {
     "slide_type": "fragment"
    },
    "tags": []
   },
   "source": [
    "- [Windows](https://docs.python.org/3/using/windows.html)\n",
    "- [MAC](https://docs.python.org/3/using/mac.html)\n",
    "- GNU/Linux"
   ]
  },
  {
   "cell_type": "markdown",
   "id": "70e2a238-6bf1-4243-8f8a-8d7e44abf67c",
   "metadata": {
    "editable": true,
    "slideshow": {
     "slide_type": "fragment"
    },
    "tags": []
   },
   "source": [
    "### Terminal 101"
   ]
  },
  {
   "cell_type": "markdown",
   "id": "84bdc1b6-dc8c-48c5-960a-b1ff47d87eea",
   "metadata": {
    "editable": true,
    "slideshow": {
     "slide_type": ""
    },
    "tags": []
   },
   "source": [
    "- `cd`: cambiar de directorio\n",
    "- `pwd`: mostrar el directorio actual\n",
    "- `ls`: listar los archivos y directorios en el directorio actual\n",
    "- `mkdir`: crear un directorio\n",
    "- `touch`: crear un archivo vacío\n",
    "- `rm`: eliminar un archivo o directorio\n",
    "- `cp`: copiar un archivo o directorio\n",
    "- `mv`: mover o renombrar un archivo o directorio\n",
    "\n",
    "![](https://i.pinimg.com/originals/ee/c0/97/eec097ad46de5011264b4a71d7c292f5.gif)"
   ]
  },
  {
   "cell_type": "markdown",
   "id": "913a5e0b-41d6-4d03-a8a3-d7476732649a",
   "metadata": {
    "editable": true,
    "slideshow": {
     "slide_type": "subslide"
    },
    "tags": []
   },
   "source": [
    "## IDEs y editores"
   ]
  },
  {
   "cell_type": "markdown",
   "id": "64c0b86a-5c26-442d-a775-926a2846691b",
   "metadata": {
    "editable": true,
    "slideshow": {
     "slide_type": "fragment"
    },
    "tags": []
   },
   "source": [
    "- Visual Studio Code\n",
    "- Pycharm Community\n",
    "- nvim\n",
    "- Emacs\n",
    "\n",
    "<center><img src=\"https://download.logo.wine/logo/GNU_Emacs/GNU_Emacs-Logo.wine.png\" width=500></center>"
   ]
  },
  {
   "cell_type": "markdown",
   "id": "a9746eb6-e5a0-4001-9078-2e4d1cbb170e",
   "metadata": {
    "editable": true,
    "slideshow": {
     "slide_type": "subslide"
    },
    "tags": []
   },
   "source": [
    "## Notebooks"
   ]
  },
  {
   "cell_type": "markdown",
   "id": "12b54d47-d9ce-48f5-948b-18c92ccff4c2",
   "metadata": {
    "editable": true,
    "slideshow": {
     "slide_type": "fragment"
    },
    "tags": []
   },
   "source": [
    "- Entorno de desarrollo basado en interface web\n",
    "- Computación interactiva\n",
    "- Ampliamente usado en la comunidad científica\n",
    "    - Fáciles de compartir y reproducir\n",
    "\n",
    "<center><img src=\"https://jupyter.org/assets/homepage/labpreview.webp\" width=500></center>\n",
    "\n",
    "- Hay servicios web que te permiten acceder a notebooks como [Google Colab](https://colab.research.google.com/)"
   ]
  },
  {
   "cell_type": "markdown",
   "id": "46424b96-e32c-430c-be18-0e86363ba8a9",
   "metadata": {
    "editable": true,
    "slideshow": {
     "slide_type": "subslide"
    },
    "tags": []
   },
   "source": [
    "## Entendiendo las computadoras (un poco)"
   ]
  },
  {
   "cell_type": "markdown",
   "id": "cba51417-61ed-4fb7-b430-b3f41b649df1",
   "metadata": {
    "editable": true,
    "slideshow": {
     "slide_type": "fragment"
    },
    "tags": []
   },
   "source": [
    "Estan en todas partes (incluso detrás de ti ¡voltea ahora!). Las computadoras pueden realizar una gran variedad de tareas porque pueden ser programadas para ello. En este sentido, las computadoras no estan diseñadas para un solo trabajo (al menos la mayoría no)"
   ]
  },
  {
   "cell_type": "markdown",
   "id": "f34f398a-8f43-425b-8e0e-0132dc6f85c0",
   "metadata": {
    "editable": true,
    "slideshow": {
     "slide_type": "fragment"
    },
    "tags": []
   },
   "source": [
    "<center><img src=\"https://images3.memedroid.com/images/UPLOADED429/6279338d2af4d.jpeg\" width=500></center>\n"
   ]
  },
  {
   "cell_type": "markdown",
   "id": "026f249b-763e-4ee0-98f7-a9926e7e4f6e",
   "metadata": {
    "editable": true,
    "slideshow": {
     "slide_type": "subslide"
    },
    "tags": []
   },
   "source": [
    "### CPU (Central Procesing Unit)"
   ]
  },
  {
   "cell_type": "markdown",
   "id": "fe7ff3e3-fbb8-4d94-9f59-c4b1790fdc47",
   "metadata": {
    "editable": true,
    "slideshow": {
     "slide_type": "fragment"
    },
    "tags": []
   },
   "source": [
    "Conocido como el *cerebro* de la computadora. En realidad no es un cerebro, solo entiende codigo binario y hace tareas pequeñas muy rápido. Por ejemplo, sumar dos números, leer datos de la memoria, determinar si un número es igual a otro, mover un número de un lugar en la memoria a otro lugar, entre otras  "
   ]
  },
  {
   "cell_type": "markdown",
   "id": "db77a9ea-3d24-4b30-9d3f-c6b3933d83fe",
   "metadata": {
    "editable": true,
    "slideshow": {
     "slide_type": "fragment"
    },
    "tags": []
   },
   "source": [
    "<center><img src=\"https://www.pcgamesn.com/wp-content/sites/pcgamesn/2017/09/cpu-upgrade.jpg\" width=500></center>"
   ]
  },
  {
   "cell_type": "markdown",
   "id": "9dca2154-2c28-447a-a7c1-14e67f991756",
   "metadata": {
    "editable": true,
    "slideshow": {
     "slide_type": "subslide"
    },
    "tags": []
   },
   "source": [
    "### Memoria principal"
   ]
  },
  {
   "cell_type": "markdown",
   "id": "26023734-505a-43e2-8c3c-ce80ffb1f131",
   "metadata": {
    "editable": true,
    "slideshow": {
     "slide_type": "fragment"
    },
    "tags": []
   },
   "source": [
    "Tambien conocida como la memoria RAM (Random Access Memory). En esta memoria se almacenan los programas y sus datos mientras se ejecutan. Por ejemplo, su usas Libreoffice para escribir una carta tanto el programa como el contenido de tu carta estarán en memoria RAM.\n",
    "\n",
    "Esta memoria es de tipo volatil porque al quitarle la energía (apagar la computadora) toda la información contenida se borrará."
   ]
  },
  {
   "cell_type": "markdown",
   "id": "588f10a4-1b46-4463-892f-a395d490a70f",
   "metadata": {
    "editable": true,
    "slideshow": {
     "slide_type": "fragment"
    },
    "tags": []
   },
   "source": [
    "<center><img src=\"https://images3.memedroid.com/images/UPLOADED240/5e48a4e26b9db.jpeg\" width=500></center>"
   ]
  },
  {
   "cell_type": "markdown",
   "id": "7d840258-ce70-48b0-845a-c9576b4b05ad",
   "metadata": {
    "editable": true,
    "slideshow": {
     "slide_type": "subslide"
    },
    "tags": []
   },
   "source": [
    "### Memoria secundaria"
   ]
  },
  {
   "cell_type": "markdown",
   "id": "02fa7ddd-9120-4355-ac77-a1faa5d4a99d",
   "metadata": {
    "editable": true,
    "slideshow": {
     "slide_type": "fragment"
    },
    "tags": []
   },
   "source": [
    "Tambien conocida como Discos Duros, Discos de estado solido, USB, CD, DVD, 3.3, 5.25. Estas memorias con para almacenar información a largo plazo. Son del tipo no volatil ya que al quitar la energía no se borra la información. Generalmente los programas importan datos desde esta memoria y los cargan en la memoria principal. "
   ]
  },
  {
   "cell_type": "markdown",
   "id": "5fe08e47-a3a3-4805-985c-ba0550a5967d",
   "metadata": {
    "editable": true,
    "slideshow": {
     "slide_type": "fragment"
    },
    "tags": []
   },
   "source": [
    "<center><img src=\"https://i.pinimg.com/originals/5b/1f/75/5b1f75f34ec9c30acc8c05a85195bd7d.jpg\" width=500></center>"
   ]
  },
  {
   "cell_type": "markdown",
   "id": "d1d7a3d9-9823-4f92-83ec-1064fd6b512e",
   "metadata": {
    "editable": true,
    "slideshow": {
     "slide_type": "subslide"
    },
    "tags": []
   },
   "source": [
    "### Dispositivos de entrada/salida"
   ]
  },
  {
   "cell_type": "markdown",
   "id": "75ba7dda-0432-4585-82fa-b9751e09f86e",
   "metadata": {
    "editable": true,
    "slideshow": {
     "slide_type": "fragment"
    },
    "tags": []
   },
   "source": [
    "Pueden ser teclados, cámaras, impresoras, mouses, pantallas táctiles, escáners, micrófonos, pantallas y más"
   ]
  },
  {
   "cell_type": "code",
   "execution_count": 10,
   "id": "aadf3006-a80b-4438-a6cf-ae4aa8ea46c4",
   "metadata": {
    "editable": true,
    "slideshow": {
     "slide_type": "fragment"
    },
    "tags": []
   },
   "outputs": [
    {
     "data": {
      "text/html": [
       "\n",
       "<center><iframe width='900' height='600' src='https://www.youtube.com/embed/UhpTiWyVa6k?controls=1&t=210'></iframe></center\n"
      ],
      "text/plain": [
       "<IPython.core.display.HTML object>"
      ]
     },
     "metadata": {},
     "output_type": "display_data"
    }
   ],
   "source": [
    "%%html\n",
    "\n",
    "<center><iframe width='900' height='600' src='https://www.youtube.com/embed/UhpTiWyVa6k?controls=1&t=210'></iframe></center"
   ]
  },
  {
   "cell_type": "markdown",
   "id": "7c6c2863-7c13-4fb2-97f7-5032622976b0",
   "metadata": {
    "editable": true,
    "slideshow": {
     "slide_type": "subslide"
    },
    "tags": []
   },
   "source": [
    "### Lenguajes de programación"
   ]
  },
  {
   "cell_type": "markdown",
   "id": "1df09cc9-2bb6-4238-811c-a72e3808a06c",
   "metadata": {
    "editable": true,
    "slideshow": {
     "slide_type": "fragment"
    },
    "tags": []
   },
   "source": [
    "El CPU solo entiende un lenguaje y es binario\n",
    "\n",
    "```\n",
    "01110111 01100001 01101011 01100101 00100000 01110101 01110000 00100000 01101110 01100101 01101111\n",
    "\n",
    "00100000 01100110 01101111 01101100 01101100 01101111 01110111 00100000 01110100 01101000 01100101 00100000 01110111 01101000 01101001 01110100 01100101 00100000 01110010 01100001 01100010 01100010 01101001 01110100 \n",
    "```\n",
    "\n",
    "Como mucha gente encuentra complicado programar en lenguaje binario se crearon lenguajes más amigables para los humanos (según). [Ejemplos](https://www.wikiwand.com/es/Anexo:Ejemplos_de_implementaci%C3%B3n_del_%C2%ABHola_mundo%C2%BB)"
   ]
  },
  {
   "cell_type": "markdown",
   "id": "18802b6a-588c-4666-a0b4-04132064e949",
   "metadata": {
    "editable": true,
    "slideshow": {
     "slide_type": "subslide"
    },
    "tags": []
   },
   "source": [
    "### De lenguaje máquina a ensamblador"
   ]
  },
  {
   "cell_type": "markdown",
   "id": "559b1a2c-b133-4bec-b785-63cae0d200ea",
   "metadata": {
    "editable": true,
    "slideshow": {
     "slide_type": "fragment"
    },
    "tags": []
   },
   "source": [
    "- Ya que es impráctico que las personas programen en lenguaje máquina se creo el **lenguaje ensamblador** en los inicios de la computación como alternativa. Este lenguaje usa palabras cortas conocidas como *mnemonicos* en lugar de números binarios.\n",
    "- Ejemplos de estos *mnemonicos* son: `add`, `mul`, `mov`\n",
    "- El problema es que cada procesador tiene sus propios *mnemonicos* entonces debías aprenderlos dependiendo del CPU con el que trabajaras\n",
    "\n",
    "<center><img src=\"https://i.programmerhumor.io/2023/12/programmerhumor-io-programming-memes-e1a241fa25617c3-608x545.jpg\" width=500></center>"
   ]
  },
  {
   "cell_type": "markdown",
   "id": "e265baee-b4f0-4f8d-aadc-56bbfb32b528",
   "metadata": {
    "editable": true,
    "slideshow": {
     "slide_type": "subslide"
    },
    "tags": []
   },
   "source": [
    "### Hola mundo en ensamblador (IBM)"
   ]
  },
  {
   "cell_type": "markdown",
   "id": "5c2c6891-6dae-40f3-96ce-550caf6d4f01",
   "metadata": {
    "editable": true,
    "slideshow": {
     "slide_type": "fragment"
    },
    "tags": []
   },
   "source": [
    "```c\n",
    " HELLO    CSECT               The name of this program is 'HELLO'\n",
    " *                            Register 15 points here on entry from OPSYS or caller.\n",
    "          STM   14,12,12(13)  Save registers 14,15, and 0 thru 12 in caller's Save area\n",
    "          LR    12,15         Set up base register with program's entry point address\n",
    "          USING HELLO,12      Tell assembler which register we are using for pgm. base\n",
    "          LA    15,SAVE       Now Point at our own save area\n",
    "          ST    15,8(13)      Set forward chain\n",
    "          ST    13,4(15)      Set back chain\n",
    "          LR    13,15         Set R13 to address of new save area\n",
    " *                            -end of housekeeping (similar for most programs) -\n",
    "          WTO   'Hello, World!' Write To Operator (Operating System macro)\n",
    " *\n",
    "          L     13,4(13)      restore address to caller-provided save area\n",
    "          XC    8(4,13),8(13) Clear forward chain\n",
    "          LM    14,12,12(13)  Restore registers as on entry\n",
    "          DROP  12            The opposite of 'USING'\n",
    "          SR    15,15         Set register 15 to 0 so that the return code (R15) is Zero\n",
    "          BR    14            Return to caller\n",
    " *           \n",
    " SAVE     DS    18F           Define 18 fullwords to save calling program registers \n",
    "          END  HELLO          This is the end of the program\n",
    "```"
   ]
  },
  {
   "cell_type": "markdown",
   "id": "6c1bf824-8831-4a3a-80c1-7b1f853c237d",
   "metadata": {
    "editable": true,
    "slideshow": {
     "slide_type": "subslide"
    },
    "tags": []
   },
   "source": [
    "### Lenguajes de alto nivel"
   ]
  },
  {
   "cell_type": "markdown",
   "id": "68c7381d-abc3-44fc-b27b-dc2c0711b4c5",
   "metadata": {
    "editable": true,
    "slideshow": {
     "slide_type": "fragment"
    },
    "tags": []
   },
   "source": [
    "- Claramente el ensamblador tiene ventajas y desventajas\n",
    "- Como el lenguaje ensamblador está tan cercano al lenguaje de máquinas se le llama de **bajo nivel** (*low-level language*)\n",
    "- En contraposición, en 1970 comenzarón a desarrollar lenguajes de **alto nivel** (*high-level language*). Un ejemplo de lenguaje de alto nivel es `python`\n",
    "- Los lenguajes de alto nivel permiten concentrarnos en la solución de tareas en lugar de conocer detalles de la computadora (¿A costa de qué?)"
   ]
  },
  {
   "cell_type": "markdown",
   "id": "8d207d25-ad80-4f70-9bb2-57bdf6000466",
   "metadata": {
    "editable": true,
    "slideshow": {
     "slide_type": "subslide"
    },
    "tags": []
   },
   "source": [
    "<center><img src=\"https://images.squarespace-cdn.com/content/58bb4a9959cc68b96960fd04/1502805253463-BZA5M69FVADTDDXBC133/?content-type=image%2Fjpeg\"></center>"
   ]
  },
  {
   "cell_type": "markdown",
   "id": "9725b2f1-362c-4931-ab40-8bde7153db2d",
   "metadata": {
    "editable": true,
    "slideshow": {
     "slide_type": "fragment"
    },
    "tags": []
   },
   "source": [
    "> Margaret Hamilton - https://en.wikipedia.org/wiki/Margaret_Hamilton_(software_engineer)"
   ]
  },
  {
   "cell_type": "markdown",
   "id": "f53c3795-66da-4179-afff-43602d08b4dc",
   "metadata": {
    "editable": true,
    "slideshow": {
     "slide_type": "subslide"
    },
    "tags": []
   },
   "source": [
    "## Otros paradigmas de programación"
   ]
  },
  {
   "cell_type": "markdown",
   "id": "912ee3bc-05ea-418d-b009-561013183a97",
   "metadata": {
    "editable": true,
    "slideshow": {
     "slide_type": "fragment"
    },
    "tags": []
   },
   "source": [
    "Veamos un \"hola mundo\" y una funcion que suma dos numeros en diferentes lenguajes de programación"
   ]
  },
  {
   "cell_type": "markdown",
   "id": "634ad465-45a3-41ba-97bb-858db6ce5917",
   "metadata": {
    "editable": true,
    "slideshow": {
     "slide_type": "subslide"
    },
    "tags": []
   },
   "source": [
    "### `LISP`"
   ]
  },
  {
   "cell_type": "markdown",
   "id": "0610f065-b6d6-4a50-958b-10c50c31fcd5",
   "metadata": {
    "editable": true,
    "slideshow": {
     "slide_type": "fragment"
    },
    "tags": []
   },
   "source": [
    "```scheme\n",
    "\"Hola mundo cruel :)\"\n",
    "(define (suma x y)\n",
    "  (+ x y))\n",
    "(suma 10 10)\n",
    "> $1 = 20\n",
    "```"
   ]
  },
  {
   "cell_type": "markdown",
   "id": "da8b5088-71b5-4c55-b9c1-963afbba1f39",
   "metadata": {
    "editable": true,
    "slideshow": {
     "slide_type": "subslide"
    },
    "tags": []
   },
   "source": [
    "### `C`"
   ]
  },
  {
   "cell_type": "markdown",
   "id": "07352373-bddb-4dac-afbc-132444b7a776",
   "metadata": {
    "editable": true,
    "slideshow": {
     "slide_type": "fragment"
    },
    "tags": []
   },
   "source": [
    "```c\n",
    "#include<stdio.h>\n",
    "\n",
    "int suma(int, int);\n",
    "\n",
    "void main() {\n",
    "    printf(\"Hola mundo cruel :0\\n\");\n",
    "    printf(\"Sumando 10 + 10 = %d\\n\", suma(10, 10));\n",
    "}\n",
    "\n",
    "int suma(int x, int y){\n",
    "    return x + y\n",
    "} \n",
    "```"
   ]
  },
  {
   "cell_type": "markdown",
   "id": "681b53c2-64b2-465e-a2db-d54c3bda7258",
   "metadata": {
    "editable": true,
    "slideshow": {
     "slide_type": "subslide"
    },
    "tags": []
   },
   "source": [
    "### `Java`"
   ]
  },
  {
   "cell_type": "markdown",
   "id": "96290217-ad26-4d42-bf6a-3a0b190b9057",
   "metadata": {
    "editable": true,
    "slideshow": {
     "slide_type": "fragment"
    },
    "tags": []
   },
   "source": [
    "```java\n",
    "public class HolaMundo {\n",
    "\n",
    "    public static int suma(int x, int y){\n",
    "       return x + y;\n",
    "    }\n",
    "\n",
    "    public static void main(String[] args){\n",
    "        System.out.println(\"Hola mundo cruel\");\n",
    "    \tSystem.out.println(\"Sumando 10 + 10 = \" + suma(10, 10));\n",
    "    }\n",
    "\n",
    "}\n",
    "```"
   ]
  },
  {
   "cell_type": "markdown",
   "id": "425d4f96-276a-4a4b-a5c9-8ad9fa69b31c",
   "metadata": {
    "editable": true,
    "slideshow": {
     "slide_type": "subslide"
    },
    "tags": []
   },
   "source": [
    "### `JS`"
   ]
  },
  {
   "cell_type": "markdown",
   "id": "a6da3f2f-addd-47ca-8538-a7d5a10435a9",
   "metadata": {
    "editable": true,
    "slideshow": {
     "slide_type": "fragment"
    },
    "tags": []
   },
   "source": [
    "```js\n",
    "console.log(\"Hola mundo :)\")\n",
    "function suma(x, y){\n",
    "  return x + y\n",
    "}\n",
    "console.log(\"Sumando 10 + 10 =\", suma(10, 10)) \n",
    "```"
   ]
  },
  {
   "cell_type": "markdown",
   "id": "468c513e-72cf-4de9-b81f-c6fe4fa26e5e",
   "metadata": {
    "editable": true,
    "slideshow": {
     "slide_type": "slide"
    },
    "tags": []
   },
   "source": [
    "## Elementos de programación con `python`"
   ]
  },
  {
   "cell_type": "markdown",
   "id": "3f8cabb5-7022-44fb-b719-08d79c442568",
   "metadata": {
    "editable": true,
    "slideshow": {
     "slide_type": "subslide"
    },
    "tags": []
   },
   "source": [
    "### Función `print()`"
   ]
  },
  {
   "cell_type": "markdown",
   "id": "9cf1c393-c8d4-4604-a61c-88d29511e827",
   "metadata": {
    "editable": true,
    "slideshow": {
     "slide_type": "fragment"
    },
    "tags": []
   },
   "source": [
    "- Una de las primeras cosas que aprendermos como programadoræs es a imprimir cosas en la pantalla\n",
    "- Los tutoriales generalmente inician con un \"Hola Mundo :)\"\n",
    "- Comenzaremos a programar saludando 👋🏼"
   ]
  },
  {
   "cell_type": "code",
   "execution_count": 3,
   "id": "f158555c-5d4d-43de-9a3a-4b2475767937",
   "metadata": {
    "editable": true,
    "slideshow": {
     "slide_type": "fragment"
    },
    "tags": []
   },
   "outputs": [
    {
     "name": "stdout",
     "output_type": "stream",
     "text": [
      "Hola mundo Cruel y despiadado 🌎\n"
     ]
    }
   ],
   "source": [
    "print(\"Hola mundo Cruel y despiadado 🌎\")"
   ]
  },
  {
   "cell_type": "markdown",
   "id": "ce599fb2-33a8-4273-872a-d75a597dbd2b",
   "metadata": {
    "editable": true,
    "slideshow": {
     "slide_type": "subslide"
    },
    "tags": []
   },
   "source": [
    "### Objetos"
   ]
  },
  {
   "cell_type": "markdown",
   "id": "12e5c239-22bc-45f7-88a2-91f1003b6400",
   "metadata": {
    "editable": true,
    "slideshow": {
     "slide_type": "fragment"
    },
    "tags": []
   },
   "source": [
    "Al crear o cargar datos en `python`, en realidad estamos creando objetos en memoria (más detalles más adelante). En general se utilizan las palabra **objetos** y **variables** de forma intercambiable aunque significan cosas ligeramente distintas. Por el momento basta con pensar que los objetos con cosas que son creadas y utilizadas por `python` y que son almacenadas en la memoria de nuestra computadora para ser usados en el futuro.\n",
    "\n",
    "> Pensemos que la memoria de nuestra computadora es como nuestra memoria. Si quisieramos recordar como se dice \"Gracias\" en Otomí accedemos a nuestra memoria y recodamos que es \"Jamädi\"\n",
    "- Source: https://tsunkua.elotl.mx/"
   ]
  },
  {
   "cell_type": "markdown",
   "id": "7bb4e6e4-fbd1-4252-b634-8554c494d272",
   "metadata": {
    "editable": true,
    "slideshow": {
     "slide_type": "subslide"
    },
    "tags": []
   },
   "source": [
    "### Variables"
   ]
  },
  {
   "cell_type": "markdown",
   "id": "bee2bcf8-7a22-41c2-9e20-2ecf45c954a4",
   "metadata": {
    "editable": true,
    "slideshow": {
     "slide_type": "fragment"
    },
    "tags": []
   },
   "source": [
    "Para hacer referencia a estos puntos de la memoria, necesitamos una forma de identificarles. Esto lo hacemos con **variables**. Una variable es el nombre de un elemento de nuestro programa que apunta a un objeto en memoria.\n",
    "\n",
    "Las variables nos permiten recuperar, llamar y cambiar ese objeto en memoria.\n",
    "\n",
    "Para crear una variable necesitamos asignar un nombre único, seguido del símbolo `=`, seguido de los datos específicos. Creemos nuestra primera variable con datos de tipo cadena"
   ]
  },
  {
   "cell_type": "code",
   "execution_count": 5,
   "id": "2608be8f-ed4d-48fd-b7b2-90b4c47ff992",
   "metadata": {
    "editable": true,
    "slideshow": {
     "slide_type": "fragment"
    },
    "tags": []
   },
   "outputs": [],
   "source": [
    "autora = \"Fernanda Melchor\"\n",
    "autor = \"Isaac Asimov\""
   ]
  },
  {
   "cell_type": "markdown",
   "id": "76d9cebe-2627-4d84-a6aa-45e9a2945c36",
   "metadata": {
    "editable": true,
    "slideshow": {
     "slide_type": "fragment"
    },
    "tags": []
   },
   "source": [
    "Una vez creado nuestro objeto podemos utilizarlo. Por ejemplo, imprimamos un mensaje con nuestro objeto que esta cargado en memoria:"
   ]
  },
  {
   "cell_type": "code",
   "execution_count": 30,
   "id": "4a7ebe8a-36dc-4b94-9439-06bd1a498fb2",
   "metadata": {
    "editable": true,
    "slideshow": {
     "slide_type": "fragment"
    },
    "tags": []
   },
   "outputs": [
    {
     "name": "stdout",
     "output_type": "stream",
     "text": [
      "Fernanda Melchor , Issac Asimov\n"
     ]
    }
   ],
   "source": [
    "print(autora, \",\", autor)"
   ]
  },
  {
   "cell_type": "markdown",
   "id": "417688d2-9d09-4d06-b559-80f4774cc753",
   "metadata": {
    "editable": true,
    "slideshow": {
     "slide_type": "subslide"
    },
    "tags": []
   },
   "source": [
    "#### NOTAS"
   ]
  },
  {
   "cell_type": "markdown",
   "id": "40116714-11e4-4c4a-bb4a-c4549a1660e1",
   "metadata": {
    "editable": true,
    "slideshow": {
     "slide_type": "fragment"
    },
    "tags": []
   },
   "source": [
    "`python` es sensible a mayúsculas y minúsculas (*case sensitivity*)"
   ]
  },
  {
   "cell_type": "code",
   "execution_count": 22,
   "id": "97b2b52a-fbcd-46b8-adb5-6d0a6f18f058",
   "metadata": {
    "editable": true,
    "slideshow": {
     "slide_type": "fragment"
    },
    "tags": []
   },
   "outputs": [
    {
     "ename": "NameError",
     "evalue": "name 'Autora' is not defined",
     "output_type": "error",
     "traceback": [
      "\u001b[31m---------------------------------------------------------------------------\u001b[39m",
      "\u001b[31mNameError\u001b[39m                                 Traceback (most recent call last)",
      "\u001b[36mCell\u001b[39m\u001b[36m \u001b[39m\u001b[32mIn[22]\u001b[39m\u001b[32m, line 1\u001b[39m\n\u001b[32m----> \u001b[39m\u001b[32m1\u001b[39m \u001b[38;5;28mprint\u001b[39m(\u001b[43mAutora\u001b[49m)\n",
      "\u001b[31mNameError\u001b[39m: name 'Autora' is not defined"
     ]
    }
   ],
   "source": [
    "print(Autora)"
   ]
  },
  {
   "cell_type": "markdown",
   "id": "47904388-e34c-425b-8534-a88bcef8e784",
   "metadata": {
    "editable": true,
    "slideshow": {
     "slide_type": "fragment"
    },
    "tags": []
   },
   "source": [
    "El bloque anterior nos indica que hemos producido un error 👺. Los mensajes de error suelen ser muy informativos y nos indican exactamente cual es el problema. Por ejemplo, la varable `Autora` no existe ni esta cargada en memoria por eso `python` se queja con un tipo de error específico `NameError`.\n",
    "\n",
    "Ahora utilizemos nuetra variable para salurar a nuestra autora favorita"
   ]
  },
  {
   "cell_type": "code",
   "execution_count": 23,
   "id": "41d33fc4-93bf-4a27-ad5f-7a8e249b8b36",
   "metadata": {
    "editable": true,
    "slideshow": {
     "slide_type": "fragment"
    },
    "tags": []
   },
   "outputs": [
    {
     "name": "stdout",
     "output_type": "stream",
     "text": [
      "Hola Fernanda Melchor. TQM 🤗\n"
     ]
    }
   ],
   "source": [
    "print(f\"Hola {autora}. TQM 🤗\")"
   ]
  },
  {
   "cell_type": "markdown",
   "id": "b87b9bc3-24c0-49c0-8898-fc34c204fc58",
   "metadata": {
    "editable": true,
    "slideshow": {
     "slide_type": "subslide"
    },
    "tags": []
   },
   "source": [
    "### Palabras reservadas"
   ]
  },
  {
   "cell_type": "markdown",
   "id": "71b84c85-9fbc-424d-8353-8830ab1b0492",
   "metadata": {
    "editable": true,
    "slideshow": {
     "slide_type": "fragment"
    },
    "tags": []
   },
   "source": [
    "`python` tiene un conjunto de palabras reservadas. Estas palabras no pueden ser usadas como nombres de variables. No hace falta recordarlas, podemos acceder a ellas fácilmente:"
   ]
  },
  {
   "cell_type": "code",
   "execution_count": 3,
   "id": "74744a9d-5901-4499-8e82-f80bbe401e9b",
   "metadata": {
    "editable": true,
    "slideshow": {
     "slide_type": "fragment"
    },
    "tags": []
   },
   "outputs": [
    {
     "name": "stdout",
     "output_type": "stream",
     "text": [
      "\n",
      "Here is a list of the Python keywords.  Enter any keyword to get more help.\n",
      "\n",
      "False               class               from                or\n",
      "None                continue            global              pass\n",
      "True                def                 if                  raise\n",
      "and                 del                 import              return\n",
      "as                  elif                in                  try\n",
      "assert              else                is                  while\n",
      "async               except              lambda              with\n",
      "await               finally             nonlocal            yield\n",
      "break               for                 not                 \n",
      "\n"
     ]
    }
   ],
   "source": [
    "help(\"keywords\")"
   ]
  },
  {
   "cell_type": "code",
   "execution_count": 2,
   "id": "2515f141-5e6a-4727-8571-b20e70814e9e",
   "metadata": {
    "editable": true,
    "slideshow": {
     "slide_type": "fragment"
    },
    "tags": []
   },
   "outputs": [
    {
     "ename": "SyntaxError",
     "evalue": "invalid syntax (4217012883.py, line 1)",
     "output_type": "error",
     "traceback": [
      "  \u001b[36mCell\u001b[39m\u001b[36m \u001b[39m\u001b[32mIn[2]\u001b[39m\u001b[32m, line 1\u001b[39m\n\u001b[31m    \u001b[39m\u001b[31mbreak = \"hola\"\u001b[39m\n          ^\n\u001b[31mSyntaxError\u001b[39m\u001b[31m:\u001b[39m invalid syntax\n"
     ]
    }
   ],
   "source": [
    "break = \"hola\""
   ]
  },
  {
   "cell_type": "markdown",
   "id": "a6fc171f-cdf9-420c-8415-c63c22abb4ea",
   "metadata": {
    "editable": true,
    "slideshow": {
     "slide_type": "subslide"
    },
    "tags": []
   },
   "source": [
    "### Función `type`"
   ]
  },
  {
   "cell_type": "markdown",
   "id": "066e8510-af02-4f48-827e-8cba29d0d4ca",
   "metadata": {
    "editable": true,
    "slideshow": {
     "slide_type": "fragment"
    },
    "tags": []
   },
   "source": [
    "Probablemente necesitemos saber que tipo de dato es el que contiene una variable. Para identificarlo podemos usar la función `type()`"
   ]
  },
  {
   "cell_type": "code",
   "execution_count": 6,
   "id": "0d76e3dd-e0be-47d5-8eb3-55728ef4d1f9",
   "metadata": {
    "editable": true,
    "slideshow": {
     "slide_type": "fragment"
    },
    "tags": []
   },
   "outputs": [
    {
     "name": "stdout",
     "output_type": "stream",
     "text": [
      "<class 'str'>\n",
      "<class 'str'>\n",
      "<class 'int'>\n",
      "<class 'str'>\n",
      "<class 'float'>\n",
      "<class 'bool'>\n"
     ]
    }
   ],
   "source": [
    "print(type(\"Soy una cadena\"))\n",
    "print(type(autora))\n",
    "print(type(1))\n",
    "print(type(\"1\"))\n",
    "print(type(3.14159))\n",
    "print(type(False))"
   ]
  },
  {
   "cell_type": "markdown",
   "id": "7d3892a9-61ea-4b6b-8dff-da21c3c1a5b6",
   "metadata": {
    "editable": true,
    "slideshow": {
     "slide_type": "subslide"
    },
    "tags": []
   },
   "source": [
    "### Bugs 🐞"
   ]
  },
  {
   "cell_type": "markdown",
   "id": "abd7195b-4e3d-4110-85da-6497322e9ae9",
   "metadata": {
    "editable": true,
    "slideshow": {
     "slide_type": "fragment"
    },
    "tags": []
   },
   "source": [
    "Seguro han escuchado hablar de *bugs* en programación. Un *bug* es un problema con el código. Estos problemas pueden causar un error o resultados indeseados en la salida del programa. \n",
    "\n",
    "A la práctica de buscar, atrapar y reparar estos problemas se le conoce como **debugging**. Esta práctica puede ser una de las más complejas y tardadas de programar. \n",
    "\n",
    "En el curso veremos buenas prácticas de código para minimizar los *bugs* y exploraremos herramientas que nos asistiran en esta tarea tan compleja.\n",
    "\n",
    "<center><img src=\"img/debugger_meme_2.jpg\" width=500></center>"
   ]
  },
  {
   "cell_type": "markdown",
   "id": "8124a16a-57a1-4f2d-a342-88921c1be26e",
   "metadata": {
    "editable": true,
    "slideshow": {
     "slide_type": "subslide"
    },
    "tags": []
   },
   "source": [
    "### Una historia graciosa\n",
    "\n",
    "- 9 de Setiembre de 1947, un equipo de cientificas en computación, lidereado por Grace Hopper (AKA *Amazing Grace*), detectaron un problema en la computadora Harvard Mark II en Cambridge, Massachusetts. Era una polilla frita entre el cableado de la computadora. En el reporte se incluyó la polilla como prueba:\n",
    "\n",
    "<center><img src=\"https://twistedsifter.com/wp-content/uploads/2022/09/First_Computer_Bug_1945-1.jpg\" width=500></center>\n",
    "\n",
    "> sauce - https://www.computerhistory.org/tdih/september/9/"
   ]
  },
  {
   "cell_type": "markdown",
   "id": "b37a56f6-1758-48b6-b284-358f5c09f395",
   "metadata": {
    "editable": true,
    "slideshow": {
     "slide_type": "subslide"
    },
    "tags": []
   },
   "source": [
    "### Ambiente interactivo (*Read Eval Print Loop, REPL*)"
   ]
  },
  {
   "cell_type": "markdown",
   "id": "41cfdc59-bc75-4a4c-8529-6b5f8aa1973d",
   "metadata": {
    "editable": true,
    "slideshow": {
     "slide_type": "fragment"
    },
    "tags": []
   },
   "source": [
    "- Inicia el ambiente interactivo en terminal con `$ python`\n",
    "- Imprimamos algunos mensajes\n",
    "- Ejecuta `>> import this`\n",
    "- Realiza algunas operaciones aritméticas"
   ]
  },
  {
   "cell_type": "code",
   "execution_count": 18,
   "id": "32a67295-c991-4142-9a69-63fca4aca8db",
   "metadata": {
    "editable": true,
    "slideshow": {
     "slide_type": "fragment"
    },
    "tags": []
   },
   "outputs": [
    {
     "name": "stdout",
     "output_type": "stream",
     "text": [
      "The Zen of Python, by Tim Peters\n",
      "\n",
      "Beautiful is better than ugly.\n",
      "Explicit is better than implicit.\n",
      "Simple is better than complex.\n",
      "Complex is better than complicated.\n",
      "Flat is better than nested.\n",
      "Sparse is better than dense.\n",
      "Readability counts.\n",
      "Special cases aren't special enough to break the rules.\n",
      "Although practicality beats purity.\n",
      "Errors should never pass silently.\n",
      "Unless explicitly silenced.\n",
      "In the face of ambiguity, refuse the temptation to guess.\n",
      "There should be one-- and preferably only one --obvious way to do it.\n",
      "Although that way may not be obvious at first unless you're Dutch.\n",
      "Now is better than never.\n",
      "Although never is often better than *right* now.\n",
      "If the implementation is hard to explain, it's a bad idea.\n",
      "If the implementation is easy to explain, it may be a good idea.\n",
      "Namespaces are one honking great idea -- let's do more of those!\n"
     ]
    }
   ],
   "source": [
    "import this"
   ]
  },
  {
   "cell_type": "markdown",
   "id": "ebc685fa-31ed-48db-badb-c889f44d5da5",
   "metadata": {
    "editable": true,
    "slideshow": {
     "slide_type": "slide"
    },
    "tags": []
   },
   "source": [
    "## Ejercicios 🏋️🏼‍♀️"
   ]
  },
  {
   "cell_type": "markdown",
   "id": "9e9dc63d-539e-4eb2-b2ad-47aa7d558e42",
   "metadata": {
    "editable": true,
    "slideshow": {
     "slide_type": "subslide"
    },
    "tags": []
   },
   "source": [
    "### Saludando"
   ]
  },
  {
   "cell_type": "markdown",
   "id": "8d2d7af0-e1fc-434e-bbc0-db66a386a231",
   "metadata": {
    "editable": true,
    "slideshow": {
     "slide_type": "fragment"
    },
    "tags": []
   },
   "source": [
    "1. Crea un hola mundo desde el REPL de `python`\n",
    "2. Crea un hola mundo desde un IDE\n",
    "3. Crea un hola mundo ejecutando un script desde terminal"
   ]
  },
  {
   "cell_type": "markdown",
   "id": "6dc55787-21c7-483e-a3b7-c8e7d3362f77",
   "metadata": {
    "editable": true,
    "slideshow": {
     "slide_type": "subslide"
    },
    "tags": []
   },
   "source": [
    "### Una tarjeta informativa"
   ]
  },
  {
   "cell_type": "markdown",
   "id": "deec9302-5d27-4929-bd72-4593d777ab11",
   "metadata": {
    "editable": true,
    "slideshow": {
     "slide_type": "fragment"
    },
    "tags": []
   },
   "source": [
    "1. Crea un notebook en Google colab\n",
    "2. Crea al menos tres variables con cadenas que contengan tu nombre, aficiones y porqué te llamó programar\n",
    "3. Imprime el mensaje con algun *template*. Ej:\n",
    "\n",
    "```bash\n",
    "\"Mi nombre es <NOMBRE>, mis aficiones son: <AFICIONES> y estoy aprendiendo a programar porqué <RAZON>\"\n",
    "```"
   ]
  },
  {
   "cell_type": "markdown",
   "id": "012d0847-6b9d-4f77-908d-62ed9e5f7095",
   "metadata": {
    "editable": true,
    "slideshow": {
     "slide_type": "subslide"
    },
    "tags": []
   },
   "source": [
    "## Como diseñar programas bonitos"
   ]
  },
  {
   "cell_type": "markdown",
   "id": "819593c2-3648-40c4-9141-13ee5400e1a9",
   "metadata": {
    "editable": true,
    "slideshow": {
     "slide_type": "fragment"
    },
    "tags": []
   },
   "source": [
    "**Los programas deben ser cuidadosamente diseñados antes de ser escritos. Hay herramientas que podemos usar durante el diseño de programas como pseudocódigo y diagramas de flujo**"
   ]
  },
  {
   "cell_type": "markdown",
   "id": "c9feaff2-d340-455a-8be0-a5fc2953ab6f",
   "metadata": {
    "editable": true,
    "slideshow": {
     "slide_type": "notes"
    },
    "tags": []
   },
   "source": [
    "### Pseudocódigo"
   ]
  },
  {
   "cell_type": "markdown",
   "id": "683537f1-9612-4327-90a8-632b9dd65143",
   "metadata": {
    "editable": true,
    "slideshow": {
     "slide_type": "fragment"
    },
    "tags": []
   },
   "source": [
    "```\n",
    "PROGRAMA: pseudocodigo_ejercicio\n",
    "INICIO\n",
    "    DATOS:\n",
    "        VARIABLES\n",
    "            edad: entero\n",
    "    ALGORITMO:\n",
    "        edad <- 10\n",
    "        SI edad ES MENOR O IGUAL A 18 ENTONCES\n",
    "            ESCRIBIR \"Eres mayor de edad\"\n",
    "        SI NO\n",
    "            ESCRIBIR \"Eres menor de edad\"\n",
    "        FIN SI\n",
    "    FIN ALGORITMO\n",
    "FIN\n",
    "```"
   ]
  },
  {
   "cell_type": "markdown",
   "id": "3477df7b-43b8-4e08-b8f9-d4ccf4071b5a",
   "metadata": {
    "editable": true,
    "slideshow": {
     "slide_type": "fragment"
    },
    "tags": []
   },
   "source": [
    "### Diagrama de flujo"
   ]
  },
  {
   "cell_type": "markdown",
   "id": "21599aa3-9491-4e28-b9ce-b39d5e680f4a",
   "metadata": {
    "editable": true,
    "slideshow": {
     "slide_type": "fragment"
    },
    "tags": []
   },
   "source": [
    "<center><img src=\"https://pseudocodigoejemplos.com/wp-content/uploads/2019/11/pseudocodigo-ejercicios-resueltos-1024x608.jpg\" width=500></center>"
   ]
  },
  {
   "cell_type": "markdown",
   "id": "fa7e4909-3600-425c-8914-7cf094fa2dca",
   "metadata": {
    "editable": true,
    "slideshow": {
     "slide_type": "subslide"
    },
    "tags": []
   },
   "source": [
    "### Ciclo de desarrollo de programas"
   ]
  },
  {
   "cell_type": "markdown",
   "id": "ace3bcbf-23e0-4f7d-b253-69cb8e8bce56",
   "metadata": {
    "editable": true,
    "slideshow": {
     "slide_type": "fragment"
    },
    "tags": []
   },
   "source": [
    "#### 1. Diseñar el programa\n",
    "\n",
    "* Es como una casa, si no la diseñas antes de comenzar a construir despues dedicarás mucho tiempo a reparar cosas en lugar de construir la casa en si."
   ]
  },
  {
   "cell_type": "markdown",
   "id": "8926123d-4e4b-44f9-baae-fb626a5605fa",
   "metadata": {
    "editable": true,
    "slideshow": {
     "slide_type": "fragment"
    },
    "tags": []
   },
   "source": [
    "#### 2. Escribir código\n",
    "\n",
    "* Cada lenguaje tiene sus propias reglas, conocidas como sintaxis, y deben ser seguidas o si no tendremos errores. La sintaxis de un lenguaje menciona cosas como palabras clave, operadores, definición elementos, etc.\n",
    "\n",
    "```python\n",
    "while (estado_vital(\"viva\")):\n",
    "    code(level=\"x1000\")\n",
    "    drink(\"cafecito\")\n",
    "    continue\n",
    "```"
   ]
  },
  {
   "cell_type": "markdown",
   "id": "53090ee0-667e-4120-a29d-1bc0b5553642",
   "metadata": {
    "editable": true,
    "slideshow": {
     "slide_type": "fragment"
    },
    "tags": []
   },
   "source": [
    "#### 3. Corregir errores de sintaxis\n",
    "\n",
    "* Si existen errores de sintaxis nuestros programas no funcionaran y deberemos corregirlos. Es muy común que haya este tipo de problemas cuando comenzamos a programas."
   ]
  },
  {
   "cell_type": "markdown",
   "id": "d87a55ab-4df9-4afa-bbc7-e31365dfa229",
   "metadata": {
    "editable": true,
    "slideshow": {
     "slide_type": "subslide"
    },
    "tags": []
   },
   "source": [
    "#### 4. Probar el programa\n",
    "\n",
    "* Para ver si hace lo que debería hacer"
   ]
  },
  {
   "cell_type": "markdown",
   "id": "c31f2cd0-2eb0-4458-adb2-d22d2a0f6ad6",
   "metadata": {
    "editable": true,
    "slideshow": {
     "slide_type": "fragment"
    },
    "tags": []
   },
   "source": [
    "#### 5. Corregir errores lógicos\n",
    "\n",
    "* Si el programa no hace lo que queremos lo reprendemos, nos reprendemos a nosotros y corregimos los problemas"
   ]
  },
  {
   "cell_type": "markdown",
   "id": "d9da85f5-f665-4fe9-aa54-3836b78df3d3",
   "metadata": {
    "editable": true,
    "slideshow": {
     "slide_type": "fragment"
    },
    "tags": []
   },
   "source": [
    "#### 6. Regresar al paso 1 (sorbito de café ☕) \n",
    "\n",
    "<center><img src=\"img/ciclo.png\" width=500></center>"
   ]
  },
  {
   "cell_type": "markdown",
   "id": "459ba2e3-5f65-4687-98f8-40e5bb76e735",
   "metadata": {
    "editable": true,
    "slideshow": {
     "slide_type": "slide"
    },
    "tags": []
   },
   "source": [
    "## Un par de cosas importantes"
   ]
  },
  {
   "cell_type": "markdown",
   "id": "9906368f-2bcb-4849-87c6-36519c3e88bc",
   "metadata": {
    "editable": true,
    "slideshow": {
     "slide_type": "fragment"
    },
    "tags": []
   },
   "source": [
    "Diseñar un programa es, presumiblemente, la parte más importante de programar. Este proceso puede resumirse en dos sencillos pasos:"
   ]
  },
  {
   "cell_type": "markdown",
   "id": "82f2b8e7-3ed3-47ad-9140-11d92a494b51",
   "metadata": {
    "editable": true,
    "slideshow": {
     "slide_type": "fragment"
    },
    "tags": []
   },
   "source": [
    "### 1. Entender la tarea a resolver"
   ]
  },
  {
   "cell_type": "markdown",
   "id": "f09713e8-5c2c-4b2b-b31b-f1b3b15cdf49",
   "metadata": {
    "editable": true,
    "slideshow": {
     "slide_type": "fragment"
    },
    "tags": []
   },
   "source": [
    "### 2. Determinar los pasos que debemos realizar para resolverla"
   ]
  },
  {
   "cell_type": "markdown",
   "id": "1ad7754f-352d-46d4-b6b4-c10c50eec062",
   "metadata": {
    "editable": true,
    "slideshow": {
     "slide_type": "subslide"
    },
    "tags": []
   },
   "source": [
    "### Ejemplo: Sumemos dos números enteros"
   ]
  },
  {
   "cell_type": "code",
   "execution_count": 1,
   "id": "9a62a3ad-9809-425a-b224-fdb82a3681bf",
   "metadata": {
    "editable": true,
    "slideshow": {
     "slide_type": "fragment"
    },
    "tags": []
   },
   "outputs": [],
   "source": [
    "# Dos variables enteras que entran por teclado\n",
    "numero_1 = input()\n",
    "numero_2 = input()\n",
    "\n",
    "resultado = numero_1 + numero_2\n",
    "print(resultado)"
   ]
  }
 ],
 "metadata": {
  "kernelspec": {
   "display_name": "Python 3 (ipykernel)",
   "language": "python",
   "name": "python3"
  },
  "language_info": {
   "codemirror_mode": {
    "name": "ipython",
    "version": 3
   },
   "file_extension": ".py",
   "mimetype": "text/x-python",
   "name": "python",
   "nbconvert_exporter": "python",
   "pygments_lexer": "ipython3",
   "version": "3.13.5"
  }
 },
 "nbformat": 4,
 "nbformat_minor": 5
}
