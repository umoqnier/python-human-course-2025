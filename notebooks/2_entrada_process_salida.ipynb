{
 "cells": [
  {
   "cell_type": "markdown",
   "metadata": {
    "editable": true,
    "slideshow": {
     "slide_type": ""
    },
    "tags": []
   },
   "source": [
    "<p align=\"center\">\n",
    "<a target=\"_blank\" href=\"https://colab.research.google.com/github/umoqnier/python-human-course-2025/blob/main/notebooks/2_entrada_process_salida.ipynb\">\n",
    "    <img src=\"https://colab.research.google.com/assets/colab-badge.svg\" alt=\"Open In Colab\"/>\n",
    "</a>\n",
    "</p> "
   ]
  },
  {
   "cell_type": "markdown",
   "metadata": {
    "editable": true,
    "slideshow": {
     "slide_type": "slide"
    },
    "tags": []
   },
   "source": [
    "# Entrada, procesamiento y salida\n",
    "\n",
    "<center><img src=\"img/putput.jpg\"></center>"
   ]
  },
  {
   "cell_type": "markdown",
   "metadata": {
    "editable": true,
    "slideshow": {
     "slide_type": "slide"
    },
    "tags": []
   },
   "source": [
    "## La entrada (*intput*) son datos que el programa recibe. Cuando un programa recibe estos datos los procesa con ciertas operaciones. El resultado es enviado fuera del programa como salida (*output*)"
   ]
  },
  {
   "cell_type": "markdown",
   "metadata": {
    "editable": true,
    "slideshow": {
     "slide_type": "subslide"
    },
    "tags": []
   },
   "source": [
    "## Impresión en pantalla"
   ]
  },
  {
   "cell_type": "code",
   "execution_count": 11,
   "metadata": {
    "editable": true,
    "slideshow": {
     "slide_type": ""
    },
    "tags": []
   },
   "outputs": [],
   "source": [
    "# TODO: Ejemplos con argumentos"
   ]
  },
  {
   "cell_type": "code",
   "execution_count": 12,
   "metadata": {
    "editable": true,
    "slideshow": {
     "slide_type": "fragment"
    },
    "tags": []
   },
   "outputs": [
    {
     "ename": "SyntaxError",
     "evalue": "invalid decimal literal (3205267822.py, line 1)",
     "output_type": "error",
     "traceback": [
      "  \u001b[36mCell\u001b[39m\u001b[36m \u001b[39m\u001b[32mIn[12]\u001b[39m\u001b[32m, line 1\u001b[39m\n\u001b[31m    \u001b[39m\u001b[31mprint('2. Entonces ¿pa' qué quiere saber eso? no soy 100tifiko')\u001b[39m\n                                                           ^\n\u001b[31mSyntaxError\u001b[39m\u001b[31m:\u001b[39m invalid decimal literal\n"
     ]
    }
   ],
   "source": [
    "print('2. Entonces ¿pa' qué quiere saber eso? no soy 100tifiko')"
   ]
  },
  {
   "cell_type": "markdown",
   "metadata": {
    "editable": true,
    "slideshow": {
     "slide_type": "subslide"
    },
    "tags": []
   },
   "source": [
    "## Strings\n",
    "\n",
    "El texto que conocemos puede verse como cadenas de letras pegadas unas con otras. Dichas cadenas son conocidas como *strings*. En `python` las *strings* se marcan con comillas dobles `\"`, simples `'` o triples `\"\"\"`."
   ]
  },
  {
   "cell_type": "code",
   "execution_count": 13,
   "metadata": {
    "editable": true,
    "slideshow": {
     "slide_type": "fragment"
    },
    "tags": []
   },
   "outputs": [
    {
     "name": "stdout",
     "output_type": "stream",
     "text": [
      "1. Esta cadena se ve profesional\n",
      "2. Entonces ¿pa' qué quiere saber eso? no soy 100tifiko\n",
      "3. El dijo \"Pero señor son niños\" y yo le dije \"robare los necesarios para salvar esta compañía\"\n",
      "4. Creo que mi ma' esta en casa y me grito \"mete la ropa\"\n",
      "5. La ruta del archivo es es C:\\diego\n",
      "omada\n",
      "\n",
      "                                    Lista para las compras:\n",
      "                                    -----------------------\n",
      "\n",
      "                                    1. Espincas\n",
      "                                    2. Queso philadelphia\n",
      "                                    3. Cebolla\n",
      "                                    4. Caldo de tomate\n",
      "\n"
     ]
    },
    {
     "name": "stderr",
     "output_type": "stream",
     "text": [
      "<>:5: SyntaxWarning: invalid escape sequence '\\d'\n",
      "<>:5: SyntaxWarning: invalid escape sequence '\\d'\n",
      "/tmp/ipykernel_3566/337150480.py:5: SyntaxWarning: invalid escape sequence '\\d'\n",
      "  print('5. La ruta del archivo es es C:\\diego\\nomada')\n"
     ]
    }
   ],
   "source": [
    "print('1. Esta cadena se ve profesional')\n",
    "print(\"2. Entonces ¿pa\\' qué quiere saber eso? no soy 100tifiko\")\n",
    "print('3. El dijo \"Pero señor son niños\" y yo le dije \"robare los necesarios para salvar esta compañía\"')\n",
    "print(\"4. Creo que mi ma' esta en casa y me grito \\\"mete la ropa\\\"\")\n",
    "print('5. La ruta del archivo es es C:\\diego\\nomada')\n",
    "print(\"\"\"\n",
    "                                    Lista para las compras:\n",
    "                                    -----------------------\n",
    "\n",
    "                                    1. Espincas\n",
    "                                    2. Queso philadelphia\n",
    "                                    3. Cebolla\n",
    "                                    4. Caldo de tomate\n",
    "\"\"\")\n"
   ]
  },
  {
   "cell_type": "markdown",
   "metadata": {
    "editable": true,
    "slideshow": {
     "slide_type": "subslide"
    },
    "tags": []
   },
   "source": [
    "## Secuencias de escape"
   ]
  },
  {
   "cell_type": "markdown",
   "metadata": {
    "editable": true,
    "slideshow": {
     "slide_type": "fragment"
    },
    "tags": []
   },
   "source": [
    "Una secuencia de escape es una combinación de carácteres que tienen un significado especial. Esto es que ciertas secuencias tendran una función diferente a su significado explícito."
   ]
  },
  {
   "cell_type": "markdown",
   "metadata": {
    "editable": true,
    "slideshow": {
     "slide_type": "fragment"
    },
    "tags": []
   },
   "source": [
    "### `\\n` - Salto de línea"
   ]
  },
  {
   "cell_type": "code",
   "execution_count": 14,
   "metadata": {
    "editable": true,
    "slideshow": {
     "slide_type": ""
    },
    "tags": []
   },
   "outputs": [
    {
     "name": "stdout",
     "output_type": "stream",
     "text": [
      "- Vegetales\n",
      "- Frutas\n",
      "- Semillas\n"
     ]
    }
   ],
   "source": [
    "print(\"- Vegetales\\n- Frutas\\n- Semillas\")"
   ]
  },
  {
   "cell_type": "markdown",
   "metadata": {
    "editable": true,
    "slideshow": {
     "slide_type": "fragment"
    },
    "tags": []
   },
   "source": [
    "### `\\t` - Tabulador"
   ]
  },
  {
   "cell_type": "code",
   "execution_count": 15,
   "metadata": {
    "editable": true,
    "slideshow": {
     "slide_type": ""
    },
    "tags": []
   },
   "outputs": [
    {
     "name": "stdout",
     "output_type": "stream",
     "text": [
      "El león\t\tLa bruja\t\tEl ropero\n"
     ]
    }
   ],
   "source": [
    "print(\"El león\\t\\tLa bruja\\t\\tEl ropero\")"
   ]
  },
  {
   "cell_type": "markdown",
   "metadata": {
    "editable": true,
    "slideshow": {
     "slide_type": "fragment"
    },
    "tags": []
   },
   "source": [
    "### `\\b` - Backspace"
   ]
  },
  {
   "cell_type": "code",
   "execution_count": 16,
   "metadata": {
    "editable": true,
    "slideshow": {
     "slide_type": ""
    },
    "tags": []
   },
   "outputs": [
    {
     "name": "stdout",
     "output_type": "stream",
     "text": [
      "Que bonito texxto tengo\n"
     ]
    }
   ],
   "source": [
    "print(\"Que bonito texxx\\bto tengo\")"
   ]
  },
  {
   "cell_type": "markdown",
   "metadata": {
    "editable": true,
    "slideshow": {
     "slide_type": "fragment"
    },
    "tags": []
   },
   "source": [
    "### `\\r` - Retorno de carro"
   ]
  },
  {
   "cell_type": "code",
   "execution_count": 17,
   "metadata": {
    "editable": true,
    "slideshow": {
     "slide_type": ""
    },
    "tags": []
   },
   "outputs": [
    {
     "name": "stdout",
     "output_type": "stream",
     "text": [
      " 42respuesta sobre el sentido de la vida, el universo y todo lo demás es:\n"
     ]
    }
   ],
   "source": [
    "print(\"La respuesta sobre el sentido de la vida, el universo y todo lo demás es:\\r 42\")"
   ]
  },
  {
   "cell_type": "markdown",
   "metadata": {
    "editable": true,
    "slideshow": {
     "slide_type": "subslide"
    },
    "tags": []
   },
   "source": [
    "### `\\\\` - Diagonal"
   ]
  },
  {
   "cell_type": "code",
   "execution_count": 18,
   "metadata": {
    "editable": true,
    "slideshow": {
     "slide_type": ""
    },
    "tags": []
   },
   "outputs": [
    {
     "name": "stdout",
     "output_type": "stream",
     "text": [
      "Nombre\\tApellido\\tEdad\n"
     ]
    }
   ],
   "source": [
    "print(\"Nombre\\\\tApellido\\\\tEdad\")"
   ]
  },
  {
   "cell_type": "markdown",
   "metadata": {
    "editable": true,
    "slideshow": {
     "slide_type": "fragment"
    },
    "tags": []
   },
   "source": [
    "### `\\'` y `\\\"`"
   ]
  },
  {
   "cell_type": "code",
   "execution_count": 19,
   "metadata": {
    "editable": true,
    "slideshow": {
     "slide_type": ""
    },
    "tags": []
   },
   "outputs": [
    {
     "name": "stdout",
     "output_type": "stream",
     "text": [
      "Vivimos en \"democracia\"\n",
      "Ella dijo: 'Que se armen las chelas'\n"
     ]
    }
   ],
   "source": [
    "print(\"Vivimos en \\\"democracia\\\"\")\n",
    "print('Ella dijo: \\'Que se armen las chelas\\'')"
   ]
  },
  {
   "cell_type": "markdown",
   "metadata": {
    "editable": true,
    "slideshow": {
     "slide_type": "subslide"
    },
    "tags": []
   },
   "source": [
    "## Operando con cadenas"
   ]
  },
  {
   "cell_type": "code",
   "execution_count": 20,
   "metadata": {
    "editable": true,
    "slideshow": {
     "slide_type": "fragment"
    },
    "tags": []
   },
   "outputs": [
    {
     "name": "stdout",
     "output_type": "stream",
     "text": [
      "Hola Enfermera\n"
     ]
    }
   ],
   "source": [
    "print(\"Hola\" + \" \" + \"Enfermera\")"
   ]
  },
  {
   "cell_type": "code",
   "execution_count": 21,
   "metadata": {
    "editable": true,
    "slideshow": {
     "slide_type": "fragment"
    },
    "tags": []
   },
   "outputs": [
    {
     "name": "stdout",
     "output_type": "stream",
     "text": [
      "na na na na na BATMAN!!!\n"
     ]
    }
   ],
   "source": [
    "print('na ' * 5 + \"BATMAN!!!\")"
   ]
  },
  {
   "cell_type": "markdown",
   "metadata": {
    "editable": true,
    "slideshow": {
     "slide_type": "subslide"
    },
    "tags": []
   },
   "source": [
    "### Acceso a elementos de una cadena"
   ]
  },
  {
   "cell_type": "code",
   "execution_count": 22,
   "metadata": {
    "editable": true,
    "slideshow": {
     "slide_type": "fragment"
    },
    "tags": []
   },
   "outputs": [
    {
     "name": "stdout",
     "output_type": "stream",
     "text": [
      "P\n",
      "y\n",
      "t\n",
      "h\n",
      "o\n",
      "n\n",
      "==========\n",
      "n\n",
      "o\n",
      "h\n",
      "t\n",
      "y\n",
      "P\n"
     ]
    }
   ],
   "source": [
    "lenguaje = \"Python\"\n",
    "print(lenguaje[0])\n",
    "print(lenguaje[1])\n",
    "print(lenguaje[2])\n",
    "print(lenguaje[3])\n",
    "print(lenguaje[4])\n",
    "print(lenguaje[5])\n",
    "print(\"=\"*10)\n",
    "print(lenguaje[-1])\n",
    "print(lenguaje[-2])\n",
    "print(lenguaje[-3])\n",
    "print(lenguaje[-4])\n",
    "print(lenguaje[-5])\n",
    "print(lenguaje[-6])"
   ]
  },
  {
   "cell_type": "markdown",
   "metadata": {
    "editable": true,
    "slideshow": {
     "slide_type": "fragment"
    },
    "tags": []
   },
   "source": [
    "```\n",
    " +---+---+---+---+---+---+\n",
    " | P | y | t | h | o | n |\n",
    " +---+---+---+---+---+---+\n",
    " 0   1   2   3   4   5   6\n",
    "-6  -5  -4  -3  -2  -1\n",
    "```"
   ]
  },
  {
   "cell_type": "code",
   "execution_count": 23,
   "metadata": {
    "editable": true,
    "slideshow": {
     "slide_type": "fragment"
    },
    "tags": []
   },
   "outputs": [
    {
     "name": "stdout",
     "output_type": "stream",
     "text": [
      "Pyth\n"
     ]
    }
   ],
   "source": [
    "print(lenguaje[:4])"
   ]
  },
  {
   "cell_type": "markdown",
   "metadata": {
    "editable": true,
    "slideshow": {
     "slide_type": "subslide"
    },
    "tags": []
   },
   "source": [
    "### Comentarios"
   ]
  },
  {
   "cell_type": "code",
   "execution_count": 24,
   "metadata": {
    "editable": true,
    "slideshow": {
     "slide_type": "fragment"
    },
    "tags": []
   },
   "outputs": [
    {
     "name": "stdout",
     "output_type": "stream",
     "text": [
      "54040\n",
      "Z80\n",
      "42\n"
     ]
    }
   ],
   "source": [
    "# Esto es un comentario inútil\n",
    "\n",
    "print(\"54040\")  # Imprime el código postal \n",
    "print(\"Z80\")  # Imprime el modelo del procesador\n",
    "\n",
    "\"\"\" \n",
    "La siguiente seccion describe la respuesta a:\n",
    "* El universo\n",
    "* La vida\n",
    "* Todo lo demás\n",
    "        \n",
    "\"\"\"\n",
    "print(\"42\")"
   ]
  },
  {
   "cell_type": "markdown",
   "metadata": {
    "editable": true,
    "slideshow": {
     "slide_type": "subslide"
    },
    "tags": []
   },
   "source": [
    "## Format y F-strings"
   ]
  },
  {
   "cell_type": "code",
   "execution_count": 25,
   "metadata": {
    "editable": true,
    "slideshow": {
     "slide_type": "fragment"
    },
    "tags": []
   },
   "outputs": [
    {
     "name": "stdout",
     "output_type": "stream",
     "text": [
      "El valor de PI es 3.14159\n",
      "Mi casa tiene 250 metros cuadrados u cuesta $ 10000000.38\n",
      "La edad de mi gato es 9 años\n",
      "El libro es Los de abajo\n",
      "El libro es Los de abajo\n",
      "El resultado es 12\n"
     ]
    }
   ],
   "source": [
    "print(\"El valor de {constante} es {valor:.5f}\".format(constante=\"PI\", valor=3.14159265))\n",
    "\n",
    "print(\"Mi casa tiene {0} metros cuadrados u cuesta $ {1:.2f}\".format(250, 10000000.3838338))\n",
    "\n",
    "print(\"La edad de mi gato es {edad_gato} años\".format(edad_gato=9))\n",
    "\n",
    "libro = \"Los de abajo\"\n",
    "\n",
    "print(f\"El libro es {libro}\")\n",
    "\n",
    "print(\"El libro es \" + libro)\n",
    "\n",
    "print(f\"El resultado es {2 + 10}\")"
   ]
  },
  {
   "cell_type": "markdown",
   "metadata": {
    "editable": true,
    "slideshow": {
     "slide_type": "subslide"
    },
    "tags": []
   },
   "source": [
    "## Variables\n",
    "\n",
    "`variable = expresión`\n",
    "\n",
    "**Una Variable es un nombre que representa valores guardados en la memoria de la computadora**\n",
    "\n"
   ]
  },
  {
   "cell_type": "code",
   "execution_count": 26,
   "metadata": {
    "editable": true,
    "slideshow": {
     "slide_type": "fragment"
    },
    "tags": []
   },
   "outputs": [
    {
     "name": "stdout",
     "output_type": "stream",
     "text": [
      "Mi edad es de 24\n",
      "Ahora mi edad es de 25 Feliz cumpleaños!!!\n"
     ]
    }
   ],
   "source": [
    "edad = 24  # Asignando el valor de 24 a la variable edad\n",
    "print(\"Mi edad es de \" + str(edad))\n",
    "\n",
    "edad = 25\n",
    "print(\"Ahora mi edad es de\", edad, \"Feliz cumpleaños!!!\")"
   ]
  },
  {
   "cell_type": "markdown",
   "metadata": {
    "editable": true,
    "slideshow": {
     "slide_type": "subslide"
    },
    "tags": []
   },
   "source": [
    "## Reglas para crear buenas variables\n",
    "\n",
    "Para crear variables en python se tienen que seguir algunas reglas importantes:"
   ]
  },
  {
   "cell_type": "markdown",
   "metadata": {
    "editable": true,
    "slideshow": {
     "slide_type": "fragment"
    },
    "tags": []
   },
   "source": [
    "### * No se pueden usar las palabras reservadas de python"
   ]
  },
  {
   "cell_type": "code",
   "execution_count": 27,
   "metadata": {
    "editable": true,
    "slideshow": {
     "slide_type": "fragment"
    },
    "tags": []
   },
   "outputs": [
    {
     "name": "stdout",
     "output_type": "stream",
     "text": [
      "False | None | True | and | as | assert | async | await | break | class | continue | def | del | elif | else | except | finally | for | from | global | if | import | in | is | lambda | nonlocal | not | or | pass | raise | return | try | while | with | yield | "
     ]
    }
   ],
   "source": [
    "import keyword\n",
    "\n",
    "for key in keyword.kwlist:\n",
    "    print(key, end=' | ')"
   ]
  },
  {
   "cell_type": "markdown",
   "metadata": {
    "editable": true,
    "slideshow": {
     "slide_type": "fragment"
    },
    "tags": []
   },
   "source": [
    "### * Una variable no puede contener espacios\n",
    "\n",
    "`numero de vidas = 1000` ❌\n",
    "\n",
    "`numero_de_vidas = 1000` ✔️"
   ]
  },
  {
   "cell_type": "markdown",
   "metadata": {
    "editable": true,
    "slideshow": {
     "slide_type": "subslide"
    },
    "tags": []
   },
   "source": [
    "### * El primer caracter debe ser una letra [a-zA-Z] o un guion bajo [_]\n",
    "\n",
    "`3_veces = 3` ❌\n",
    "\n",
    "`1000xenginering = \"To bad\"` ❌\n",
    "\n",
    "`pelicula = \"Las locuras del emperador\"` ✔️"
   ]
  },
  {
   "cell_type": "markdown",
   "metadata": {
    "editable": true,
    "slideshow": {
     "slide_type": "fragment"
    },
    "tags": []
   },
   "source": [
    "### * Después del primer caracter puedes usar letras, números o guines bajos"
   ]
  },
  {
   "cell_type": "markdown",
   "metadata": {
    "editable": true,
    "slideshow": {
     "slide_type": "fragment"
    },
    "tags": []
   },
   "source": [
    "### * Mayúsculas y minúsculas son variables distintas\n",
    "\n",
    "`mismamente != Mismamente != MISMAMENTE != mIsMaMeNtE`\n",
    "\n"
   ]
  },
  {
   "cell_type": "markdown",
   "metadata": {
    "editable": true,
    "slideshow": {
     "slide_type": "subslide"
    },
    "tags": []
   },
   "source": [
    "<center><img src=\"img/variables.jpg\" width=500></center>"
   ]
  },
  {
   "cell_type": "markdown",
   "metadata": {
    "editable": true,
    "slideshow": {
     "slide_type": "subslide"
    },
    "tags": []
   },
   "source": [
    "## Tipos de datos básicos"
   ]
  },
  {
   "cell_type": "code",
   "execution_count": 16,
   "metadata": {
    "editable": true,
    "slideshow": {
     "slide_type": "fragment"
    },
    "tags": []
   },
   "outputs": [],
   "source": [
    "dormitorio = 503  # Entero -> int\n",
    "\n",
    "euler = 2.71828182  # Flotante -> float\n",
    "\n",
    "is_dead = False  # Booleano -> Bool\n",
    "\n",
    "is_dead_inside = True\n",
    "\n",
    "nombre_lomito = 'Mantequillo'  # Cadena -> str\n",
    "\n",
    "euler = \"Leonhard Euler\"\n",
    "\n",
    "euler = 2.71828182  # Flotante -> float"
   ]
  },
  {
   "cell_type": "code",
   "execution_count": null,
   "metadata": {
    "editable": true,
    "slideshow": {
     "slide_type": "fragment"
    },
    "tags": []
   },
   "outputs": [],
   "source": [
    "print(type(dormitorio))"
   ]
  },
  {
   "cell_type": "markdown",
   "metadata": {
    "editable": true,
    "slideshow": {
     "slide_type": "subslide"
    },
    "tags": []
   },
   "source": [
    "### Integrando todo lo visto"
   ]
  },
  {
   "cell_type": "code",
   "execution_count": 23,
   "metadata": {
    "editable": true,
    "slideshow": {
     "slide_type": "fragment"
    },
    "tags": []
   },
   "outputs": [
    {
     "name": "stdout",
     "output_type": "stream",
     "text": [
      "La palabra del día es igneas\n",
      "\n",
      "Jacobo dos dos\n",
      "\n",
      "La lista de comida es\n",
      "|||Manzana|||Tomate|||Leche\n",
      "Total=$50.5\n",
      "\n",
      "\tLa frase de la derecha es falsa <-> La frase de la izquierda es verdadera\n"
     ]
    }
   ],
   "source": [
    "# Imprime la palabra del día\n",
    "palabra = \"igneas\"\n",
    "print(\"La palabra del día es \" + palabra)\n",
    "\n",
    "# Nombre de caricatura dosmilera\n",
    "nombre = \"\\nJacobo\"\n",
    "print(nombre + \" dos\" * 2)\n",
    "\n",
    "# Lista de compras\n",
    "fruta = \"Manzana\"\n",
    "verdura = \"Tomate\"\n",
    "liquido = \"Leche\"\n",
    "total = 50.50\n",
    "print(\"\\nLa lista de comida es\\n\", fruta, verdura, liquido, sep='|||')\n",
    "print(f\"Total = ${total}\")\n",
    "\n",
    "# Una paradoja\n",
    "print(\"\\n\\tLa frase de la derecha es falsa <\", end=\"\")\n",
    "print(\"-> La frase de la izquierda es verdadera\")"
   ]
  },
  {
   "cell_type": "markdown",
   "metadata": {
    "editable": true,
    "slideshow": {
     "slide_type": "subslide"
    },
    "tags": []
   },
   "source": [
    "## Entrada de datos por teclado\n",
    "\n",
    "```python\n",
    "variable = input(prompt)`\n",
    "```\n",
    "\n",
    "**El programa necesita datos. Esos datos, por el momento, vendrá del teclado**\n",
    "\n",
    "<center><img src=\"img/keyboard.jpg\" width=500></center>"
   ]
  },
  {
   "cell_type": "code",
   "execution_count": null,
   "metadata": {
    "editable": true,
    "slideshow": {
     "slide_type": "subslide"
    },
    "tags": []
   },
   "outputs": [],
   "source": [
    "# Esto toma el nombre y el apellido y los imprime\n",
    "# TODO: implement\n",
    "# TODO: Promnts\n",
    "print(\"Nombre completo\", nombre, apellido)"
   ]
  },
  {
   "cell_type": "markdown",
   "metadata": {
    "editable": true,
    "slideshow": {
     "slide_type": "subslide"
    },
    "tags": []
   },
   "source": [
    "### Casteo o conversión de tipos"
   ]
  },
  {
   "cell_type": "markdown",
   "metadata": {
    "editable": true,
    "slideshow": {
     "slide_type": "fragment"
    },
    "tags": []
   },
   "source": [
    "<center><img src=\"https://i.kym-cdn.com/entries/icons/facebook/000/038/748/Screen_Shot_2021-11-03_at_12.03.40_PM.jpg\" width=500><center>"
   ]
  },
  {
   "cell_type": "code",
   "execution_count": 30,
   "metadata": {
    "editable": true,
    "slideshow": {
     "slide_type": "fragment"
    },
    "tags": []
   },
   "outputs": [
    {
     "name": "stdout",
     "output_type": "stream",
     "text": [
      "40 es de tipo <class 'str'>\n",
      "40 es de tipo <class 'int'>\n"
     ]
    }
   ],
   "source": [
    "total = \"40\"\n",
    "print(total, \"es de tipo\", type(total))\n",
    "total_entero = int(total)\n",
    "print(total_entero, \"es de tipo\", type(total_entero))"
   ]
  },
  {
   "cell_type": "code",
   "execution_count": 31,
   "metadata": {
    "editable": true,
    "slideshow": {
     "slide_type": "fragment"
    },
    "tags": []
   },
   "outputs": [
    {
     "name": "stdout",
     "output_type": "stream",
     "text": [
      "PI era de tipo <class 'str'> ahora es <class 'float'>\n"
     ]
    }
   ],
   "source": [
    "pi = \"3.14\"\n",
    "print(\"PI era de tipo\", type(pi), \"ahora es\", type(float(pi)))"
   ]
  },
  {
   "cell_type": "code",
   "execution_count": 33,
   "metadata": {
    "editable": true,
    "slideshow": {
     "slide_type": "fragment"
    },
    "tags": []
   },
   "outputs": [
    {
     "name": "stdout",
     "output_type": "stream",
     "text": [
      "Mi sueldo es = 100\n"
     ]
    }
   ],
   "source": [
    "mi_sueldo = 100\n",
    "print(\"Mi sueldo es = \" + str(mi_sueldo))"
   ]
  },
  {
   "cell_type": "code",
   "execution_count": 38,
   "metadata": {
    "editable": true,
    "slideshow": {
     "slide_type": "fragment"
    },
    "tags": []
   },
   "outputs": [
    {
     "name": "stdout",
     "output_type": "stream",
     "text": [
      "Mi computadora es bonita? False\n"
     ]
    }
   ],
   "source": [
    "es_bonito = 0\n",
    "print(\"Mi computadora es bonita?\", bool(es_bonito))"
   ]
  },
  {
   "cell_type": "markdown",
   "metadata": {
    "editable": true,
    "slideshow": {
     "slide_type": "subslide"
    },
    "tags": []
   },
   "source": [
    "### Notas importantes"
   ]
  },
  {
   "cell_type": "markdown",
   "metadata": {
    "editable": true,
    "slideshow": {
     "slide_type": ""
    },
    "tags": []
   },
   "source": [
    "- **Perdida de precisión:** Convertir de `float` a `int` implica una perdida de los valores despues del punto decimal\n",
    "- **Cadenas vacías:** La cadena vacía es convertida a `False`. Cualquier cadena no vacía será `True`\n",
    "- **Valores cero:** El cero `0` es convertido a `False`. Cualquier valor que no sea cero será `True`"
   ]
  },
  {
   "cell_type": "markdown",
   "metadata": {
    "editable": true,
    "slideshow": {
     "slide_type": "slide"
    },
    "tags": []
   },
   "source": [
    "### Resolviendo el bug de la calculadora 🐞"
   ]
  },
  {
   "cell_type": "code",
   "execution_count": null,
   "metadata": {
    "editable": true,
    "slideshow": {
     "slide_type": "fragment"
    },
    "tags": []
   },
   "outputs": [],
   "source": [
    "# TODO: Resuelve el problema de la calculadora buggeada"
   ]
  },
  {
   "cell_type": "markdown",
   "metadata": {
    "editable": true,
    "slideshow": {
     "slide_type": "subslide"
    },
    "tags": []
   },
   "source": [
    "### Hagamos algunos cálculos\n",
    "\n",
    "![operadores](img/operadores.png)"
   ]
  },
  {
   "cell_type": "code",
   "execution_count": 39,
   "metadata": {
    "editable": true,
    "slideshow": {
     "slide_type": "fragment"
    },
    "tags": []
   },
   "outputs": [
    {
     "name": "stdout",
     "output_type": "stream",
     "text": [
      "Tu paga es de $1200\n"
     ]
    }
   ],
   "source": [
    "salario = 1000\n",
    "bono = 200\n",
    "pago = salario + bono\n",
    "print(f\"Tu paga es de ${pago}\")"
   ]
  },
  {
   "cell_type": "code",
   "execution_count": 40,
   "metadata": {
    "editable": true,
    "slideshow": {
     "slide_type": "fragment"
    },
    "tags": []
   },
   "outputs": [
    {
     "name": "stdout",
     "output_type": "stream",
     "text": [
      "Toca de a 5.0 manzanas por persona\n"
     ]
    }
   ],
   "source": [
    "manzanas = 10\n",
    "personas = 2\n",
    "piezas = manzanas / personas\n",
    "print(f\"Toca de a {piezas} manzanas por persona\")"
   ]
  },
  {
   "cell_type": "code",
   "execution_count": 44,
   "metadata": {
    "editable": true,
    "slideshow": {
     "slide_type": "fragment"
    },
    "tags": []
   },
   "outputs": [
    {
     "name": "stdout",
     "output_type": "stream",
     "text": [
      "Tu calificacion final es 8\n"
     ]
    }
   ],
   "source": [
    "mate = 10\n",
    "literatura = 8\n",
    "fisica = 7\n",
    "promedio = (mate + literatura + fisica) // 3\n",
    "print(f\"Tu calificacion final es {promedio}\")"
   ]
  },
  {
   "cell_type": "markdown",
   "metadata": {
    "editable": true,
    "slideshow": {
     "slide_type": "subslide"
    },
    "tags": []
   },
   "source": [
    "### Jerarquía de operadores"
   ]
  },
  {
   "cell_type": "markdown",
   "metadata": {
    "editable": true,
    "slideshow": {
     "slide_type": "fragment"
    },
    "tags": []
   },
   "source": [
    "Los operadores tienen una jerarquía que debe seguirse para garantizar un resultado correcto.\n",
    "\n",
    "1. Potencia `[**]`\n",
    "2. Producto, divisiones y modulo `[* / // %]`\n",
    "3. Adiciones y sustracciones `[+ -]` "
   ]
  },
  {
   "cell_type": "markdown",
   "metadata": {
    "editable": true,
    "slideshow": {
     "slide_type": "fragment"
    },
    "tags": []
   },
   "source": [
    "**NOTA: Si hay paréntesis primero se resuelven operaciones dentro de paréntesis.**"
   ]
  },
  {
   "cell_type": "markdown",
   "metadata": {
    "editable": true,
    "slideshow": {
     "slide_type": "fragment"
    },
    "tags": []
   },
   "source": [
    "![](img/ex1.png)"
   ]
  },
  {
   "cell_type": "markdown",
   "metadata": {
    "editable": true,
    "slideshow": {
     "slide_type": "subslide"
    },
    "tags": []
   },
   "source": [
    "![](img/ex2.png)"
   ]
  },
  {
   "cell_type": "markdown",
   "metadata": {
    "editable": true,
    "slideshow": {
     "slide_type": "slide"
    },
    "tags": []
   },
   "source": [
    "## Ejercicio"
   ]
  },
  {
   "cell_type": "markdown",
   "metadata": {
    "editable": true,
    "slideshow": {
     "slide_type": ""
    },
    "tags": []
   },
   "source": [
    "### Suma dos valores con punto decimal"
   ]
  },
  {
   "cell_type": "markdown",
   "metadata": {
    "editable": true,
    "slideshow": {
     "slide_type": ""
    },
    "tags": []
   },
   "source": [
    "Modifica la calculadora que suma dos números enteros para que ahora sume dos número con punto decimal."
   ]
  },
  {
   "cell_type": "markdown",
   "metadata": {
    "editable": true,
    "slideshow": {
     "slide_type": ""
    },
    "tags": []
   },
   "source": [
    "#### Ejemplo\n",
    "\n",
    "```python\n",
    ">> Ingresa el primer numero:  1.1\n",
    ">> Ingresa el segundo numero: 2.2\n",
    ">> Resultado: 3.3\n",
    "```"
   ]
  },
  {
   "cell_type": "code",
   "execution_count": null,
   "metadata": {
    "editable": true,
    "slideshow": {
     "slide_type": ""
    },
    "tags": []
   },
   "outputs": [],
   "source": [
    "# Tu código bonito acá :)"
   ]
  },
  {
   "cell_type": "markdown",
   "metadata": {
    "editable": true,
    "slideshow": {
     "slide_type": ""
    },
    "tags": []
   },
   "source": [
    "### Conversor de grados °C a °F"
   ]
  },
  {
   "cell_type": "markdown",
   "metadata": {
    "editable": true,
    "slideshow": {
     "slide_type": ""
    },
    "tags": []
   },
   "source": [
    "Realiza un programa que convierta grados Celsius a grados Fahrenheit. **Nota:** `°F = °C * 1.8 + 32`"
   ]
  },
  {
   "cell_type": "markdown",
   "metadata": {
    "editable": true,
    "slideshow": {
     "slide_type": ""
    },
    "tags": []
   },
   "source": [
    "#### Ejemplo\n",
    "\n",
    "```python\n",
    ">> Ingresa los grados °C a convertir: 30\n",
    ">> 30[°C] equivalen a 80[°F]\n",
    "```"
   ]
  },
  {
   "cell_type": "code",
   "execution_count": null,
   "metadata": {
    "editable": true,
    "slideshow": {
     "slide_type": ""
    },
    "tags": []
   },
   "outputs": [],
   "source": [
    "# Tu código bonito acá :)"
   ]
  },
  {
   "cell_type": "markdown",
   "metadata": {
    "editable": true,
    "slideshow": {
     "slide_type": ""
    },
    "tags": []
   },
   "source": [
    "### Calcula el descuento"
   ]
  },
  {
   "cell_type": "markdown",
   "metadata": {
    "editable": true,
    "slideshow": {
     "slide_type": ""
    },
    "tags": []
   },
   "source": [
    "Realiza el programa que, dado un porcentaje de descuento, calcule el precio a pagar por un artículo una vez aplicado dicho descuento. El programa deberá pedir a la usuaria dos números con punto decimal. El primer número será el precio de un artículo. El segundo número será el porcentaje de descuento en formato con punto decimal (10% -> 0.1). El programa deberá mostrar el precio a pagar por el artículo una vez aplicado el descuento."
   ]
  },
  {
   "cell_type": "markdown",
   "metadata": {
    "editable": true,
    "slideshow": {
     "slide_type": ""
    },
    "tags": []
   },
   "source": [
    "#### Ejemplo\n",
    "\n",
    "```python\n",
    ">> Ingresa el precio del articulo: 100\n",
    ">> Ingresa el porcentaje de descuento: 0.5\n",
    ">> El descuento es de $50.0\n",
    ">> El precio final a pagar es de $50.0\n",
    "```"
   ]
  },
  {
   "cell_type": "code",
   "execution_count": null,
   "metadata": {
    "editable": true,
    "slideshow": {
     "slide_type": ""
    },
    "tags": []
   },
   "outputs": [],
   "source": [
    "# Tu código bonito acá :)"
   ]
  },
  {
   "cell_type": "markdown",
   "metadata": {
    "editable": true,
    "slideshow": {
     "slide_type": "subslide"
    },
    "tags": []
   },
   "source": [
    "### Referecias"
   ]
  },
  {
   "cell_type": "markdown",
   "metadata": {
    "editable": true,
    "slideshow": {
     "slide_type": ""
    },
    "tags": []
   },
   "source": [
    "- https://en.wikipedia.org/wiki/Escape_sequence\n",
    "- https://www.spss-tutorials.com/escape-sequence/"
   ]
  }
 ],
 "metadata": {
  "kernelspec": {
   "display_name": "Python 3 (ipykernel)",
   "language": "python",
   "name": "python3"
  },
  "language_info": {
   "codemirror_mode": {
    "name": "ipython",
    "version": 3
   },
   "file_extension": ".py",
   "mimetype": "text/x-python",
   "name": "python",
   "nbconvert_exporter": "python",
   "pygments_lexer": "ipython3",
   "version": "3.13.5"
  }
 },
 "nbformat": 4,
 "nbformat_minor": 4
}
