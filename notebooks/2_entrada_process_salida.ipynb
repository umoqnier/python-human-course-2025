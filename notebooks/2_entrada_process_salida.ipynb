{
 "cells": [
  {
   "cell_type": "markdown",
   "metadata": {
    "editable": true,
    "slideshow": {
     "slide_type": ""
    },
    "tags": []
   },
   "source": [
    "<p align=\"center\">\n",
    "<a target=\"_blank\" href=\"https://colab.research.google.com/github/umoqnier/python-human-course-2025/blob/main/notebooks/2_entrada_process_salida.ipynb\">\n",
    "    <img src=\"https://colab.research.google.com/assets/colab-badge.svg\" alt=\"Open In Colab\"/>\n",
    "</a>\n",
    "</p> "
   ]
  },
  {
   "cell_type": "markdown",
   "metadata": {
    "editable": true,
    "slideshow": {
     "slide_type": "slide"
    },
    "tags": []
   },
   "source": [
    "# Entrada, procesamiento y salida\n",
    "\n",
    "<center><img src=\"img/putput.jpg\"></center>"
   ]
  },
  {
   "cell_type": "markdown",
   "metadata": {
    "editable": true,
    "slideshow": {
     "slide_type": "slide"
    },
    "tags": []
   },
   "source": [
    "## La entrada (*intput*) son datos que el programa recibe. Cuando un programa recibe estos datos los procesa con ciertas operaciones. El resultado es enviado fuera del programa como salida (*output*)"
   ]
  },
  {
   "cell_type": "markdown",
   "metadata": {
    "editable": true,
    "slideshow": {
     "slide_type": "subslide"
    },
    "tags": []
   },
   "source": [
    "## Impresión en pantalla"
   ]
  },
  {
   "cell_type": "markdown",
   "metadata": {
    "editable": true,
    "slideshow": {
     "slide_type": "fragment"
    },
    "tags": []
   },
   "source": [
    "Hasta ahora hemos mostrado mensajes en pantalla usando la **función** `print`. Cuando utilizamos una *built-in* de `python` **función** significa que estamos utilizando código que alguien [escribió previamente](https://github.com/python/cpython/blob/main/Python/bltinmodule.c#L2210) para realizar alguna operación. `python` tiene muchísimas funciones *built-in* que nos ayudarna a escribir nuestros programas."
   ]
  },
  {
   "cell_type": "code",
   "execution_count": 1,
   "metadata": {
    "editable": true,
    "slideshow": {
     "slide_type": "fragment"
    },
    "tags": []
   },
   "outputs": [
    {
     "data": {
      "text/plain": [
       "\u001b[31mSignature:\u001b[39m print(*args, sep=\u001b[33m' '\u001b[39m, end=\u001b[33m'\\n'\u001b[39m, file=\u001b[38;5;28;01mNone\u001b[39;00m, flush=\u001b[38;5;28;01mFalse\u001b[39;00m)\n",
       "\u001b[31mDocstring:\u001b[39m\n",
       "Prints the values to a stream, or to sys.stdout by default.\n",
       "\n",
       "sep\n",
       "  string inserted between values, default a space.\n",
       "end\n",
       "  string appended after the last value, default a newline.\n",
       "file\n",
       "  a file-like object (stream); defaults to the current sys.stdout.\n",
       "flush\n",
       "  whether to forcibly flush the stream.\n",
       "\u001b[31mType:\u001b[39m      builtin_function_or_method"
      ]
     },
     "metadata": {},
     "output_type": "display_data"
    }
   ],
   "source": [
    "# Ejemplos con argumentos\n",
    "print?"
   ]
  },
  {
   "cell_type": "markdown",
   "metadata": {
    "editable": true,
    "slideshow": {
     "slide_type": "fragment"
    },
    "tags": []
   },
   "source": [
    "Cuando como programadoras ejecutamos una función se dice que estamos **llamando** a la función. Para llamar una función debemos escribir su nombre (`print`), seguido de un par de paréntesis (`print()`). Dentro del parentesis pueden ir **argumentos** que serán los datos con los que trabajará la función (`print('Hola mamá :D')`).\n",
    "\n",
    "**NOTA:** Hay funciones que no necesitan argumentos para funcionar correctamente"
   ]
  },
  {
   "cell_type": "markdown",
   "metadata": {
    "editable": true,
    "slideshow": {
     "slide_type": "subslide"
    },
    "tags": []
   },
   "source": [
    "## Strings"
   ]
  },
  {
   "cell_type": "markdown",
   "metadata": {
    "editable": true,
    "slideshow": {
     "slide_type": "fragment"
    },
    "tags": []
   },
   "source": [
    "El texto que conocemos puede verse como cadenas de letras pegadas unas con otras. Dichas cadenas son conocidas como *strings*. En `python` las *strings* se marcan con comillas dobles `\"`, simples `'` o triples `\"\"\"`."
   ]
  },
  {
   "cell_type": "code",
   "execution_count": null,
   "metadata": {
    "editable": true,
    "slideshow": {
     "slide_type": "fragment"
    },
    "tags": []
   },
   "outputs": [],
   "source": [
    "print('1. Esta cadena se ve profesional')"
   ]
  },
  {
   "cell_type": "markdown",
   "metadata": {
    "editable": true,
    "slideshow": {
     "slide_type": "fragment"
    },
    "tags": []
   },
   "source": [
    "Si quieres imprimir una cadena que contenga `'` puedes utilizar comillas dobles `\"`."
   ]
  },
  {
   "cell_type": "code",
   "execution_count": 12,
   "metadata": {
    "editable": true,
    "slideshow": {
     "slide_type": "fragment"
    },
    "tags": []
   },
   "outputs": [
    {
     "ename": "SyntaxError",
     "evalue": "invalid decimal literal (3205267822.py, line 1)",
     "output_type": "error",
     "traceback": [
      "  \u001b[36mCell\u001b[39m\u001b[36m \u001b[39m\u001b[32mIn[12]\u001b[39m\u001b[32m, line 1\u001b[39m\n\u001b[31m    \u001b[39m\u001b[31mprint('2. Entonces ¿pa' qué quiere saber eso? no soy 100tifiko')\u001b[39m\n                                                           ^\n\u001b[31mSyntaxError\u001b[39m\u001b[31m:\u001b[39m invalid decimal literal\n"
     ]
    }
   ],
   "source": [
    "print('2. Entonces ¿pa' qué quiere saber eso? no soy 100tifiko')"
   ]
  },
  {
   "cell_type": "code",
   "execution_count": null,
   "metadata": {
    "editable": true,
    "slideshow": {
     "slide_type": ""
    },
    "tags": []
   },
   "outputs": [],
   "source": [
    "print(\"2. Entonces ¿pa\\' qué quiere saber eso? no soy 100tifiko\")"
   ]
  },
  {
   "cell_type": "markdown",
   "metadata": {
    "editable": true,
    "slideshow": {
     "slide_type": "subslide"
    },
    "tags": []
   },
   "source": [
    "Igualmente, si quieres imprimir cadenas que contengan `\"` puedes utilizar comillas simples `'`."
   ]
  },
  {
   "cell_type": "code",
   "execution_count": null,
   "metadata": {
    "editable": true,
    "slideshow": {
     "slide_type": "fragment"
    },
    "tags": []
   },
   "outputs": [],
   "source": [
    "print('3. El dijo \"Pero señor son niños\" y yo le dije \"robare los necesarios para salvar esta compañía\"')"
   ]
  },
  {
   "cell_type": "markdown",
   "metadata": {
    "editable": true,
    "slideshow": {
     "slide_type": "fragment"
    },
    "tags": []
   },
   "source": [
    "Otra alternativa es **escapar** las letras problemáticas"
   ]
  },
  {
   "cell_type": "code",
   "execution_count": null,
   "metadata": {
    "editable": true,
    "slideshow": {
     "slide_type": "fragment"
    },
    "tags": []
   },
   "outputs": [],
   "source": [
    "print(\"4. Creo que mi ma' esta en casa y me grito \\\"mete la ropa\\\"\")"
   ]
  },
  {
   "cell_type": "markdown",
   "metadata": {
    "editable": true,
    "slideshow": {
     "slide_type": "subslide"
    },
    "tags": []
   },
   "source": [
    "Aunque para **escapar** letras hay que tener cuidado ⚠️"
   ]
  },
  {
   "cell_type": "code",
   "execution_count": 1,
   "metadata": {
    "editable": true,
    "slideshow": {
     "slide_type": "subslide"
    },
    "tags": []
   },
   "outputs": [
    {
     "name": "stdout",
     "output_type": "stream",
     "text": [
      "5. La ruta del archivo es es C:\\system\\diego\n",
      "omada\n"
     ]
    },
    {
     "name": "stderr",
     "output_type": "stream",
     "text": [
      "<>:1: SyntaxWarning: invalid escape sequence '\\s'\n",
      "<>:1: SyntaxWarning: invalid escape sequence '\\s'\n",
      "/tmp/ipykernel_3632/1010504551.py:1: SyntaxWarning: invalid escape sequence '\\s'\n",
      "  print('5. La ruta del archivo es es C:\\system\\diego\\nomada')\n"
     ]
    }
   ],
   "source": [
    "print('5. La ruta del archivo es es C:\\system\\diego\\nomada')"
   ]
  },
  {
   "cell_type": "code",
   "execution_count": 3,
   "metadata": {
    "editable": true,
    "slideshow": {
     "slide_type": "fragment"
    },
    "tags": []
   },
   "outputs": [
    {
     "name": "stdout",
     "output_type": "stream",
     "text": [
      "\n",
      "                                    Lista para las compras 🛒\n",
      "                                    -------------------------\n",
      "\n",
      "                                    1. Espinacas\n",
      "                                    2. Queso Oaxaca (quesillo)\n",
      "                                    3. Cebolla\n",
      "                                    4. Caldo de tomate\n",
      "\n"
     ]
    }
   ],
   "source": [
    "print(\"\"\"\n",
    "                                    Lista para las compras 🛒\n",
    "                                    -------------------------\n",
    "\n",
    "                                    1. Espinacas\n",
    "                                    2. Queso Oaxaca (quesillo)\n",
    "                                    3. Cebolla\n",
    "                                    4. Caldo de tomate\n",
    "\"\"\")"
   ]
  },
  {
   "cell_type": "markdown",
   "metadata": {
    "editable": true,
    "slideshow": {
     "slide_type": "subslide"
    },
    "tags": []
   },
   "source": [
    "## Secuencias de escape"
   ]
  },
  {
   "cell_type": "markdown",
   "metadata": {
    "editable": true,
    "slideshow": {
     "slide_type": "fragment"
    },
    "tags": []
   },
   "source": [
    "Una secuencia de escape es una combinación de carácteres que tienen un significado especial. Esto es que ciertas secuencias tendran una función diferente a su significado explícito."
   ]
  },
  {
   "cell_type": "markdown",
   "metadata": {
    "editable": true,
    "slideshow": {
     "slide_type": "fragment"
    },
    "tags": []
   },
   "source": [
    "### `\\n` - Salto de línea"
   ]
  },
  {
   "cell_type": "code",
   "execution_count": 14,
   "metadata": {
    "editable": true,
    "slideshow": {
     "slide_type": ""
    },
    "tags": []
   },
   "outputs": [
    {
     "name": "stdout",
     "output_type": "stream",
     "text": [
      "- Vegetales\n",
      "- Frutas\n",
      "- Semillas\n"
     ]
    }
   ],
   "source": [
    "print(\"- Vegetales\\n- Frutas\\n- Semillas\")"
   ]
  },
  {
   "cell_type": "markdown",
   "metadata": {
    "editable": true,
    "slideshow": {
     "slide_type": "fragment"
    },
    "tags": []
   },
   "source": [
    "### `\\t` - Tabulador"
   ]
  },
  {
   "cell_type": "code",
   "execution_count": 15,
   "metadata": {
    "editable": true,
    "slideshow": {
     "slide_type": ""
    },
    "tags": []
   },
   "outputs": [
    {
     "name": "stdout",
     "output_type": "stream",
     "text": [
      "El león\t\tLa bruja\t\tEl ropero\n"
     ]
    }
   ],
   "source": [
    "print(\"El león\\t\\tLa bruja\\t\\tEl ropero\")"
   ]
  },
  {
   "cell_type": "markdown",
   "metadata": {
    "editable": true,
    "slideshow": {
     "slide_type": "fragment"
    },
    "tags": []
   },
   "source": [
    "### `\\b` - Backspace"
   ]
  },
  {
   "cell_type": "code",
   "execution_count": 4,
   "metadata": {
    "editable": true,
    "slideshow": {
     "slide_type": ""
    },
    "tags": []
   },
   "outputs": [
    {
     "name": "stdout",
     "output_type": "stream",
     "text": [
      "Que bonito texto tengo\n"
     ]
    }
   ],
   "source": [
    "print(\"Que bonito texxx\\b\\bto tengo\")"
   ]
  },
  {
   "cell_type": "markdown",
   "metadata": {
    "editable": true,
    "slideshow": {
     "slide_type": "subslide"
    },
    "tags": []
   },
   "source": [
    "### `\\r` - Retorno de carro"
   ]
  },
  {
   "cell_type": "code",
   "execution_count": 17,
   "metadata": {
    "editable": true,
    "slideshow": {
     "slide_type": "fragment"
    },
    "tags": []
   },
   "outputs": [
    {
     "name": "stdout",
     "output_type": "stream",
     "text": [
      " 42respuesta sobre el sentido de la vida, el universo y todo lo demás es:\n"
     ]
    }
   ],
   "source": [
    "print(\"La respuesta sobre el sentido de la vida, el universo y todo lo demás es:\\r 42\")"
   ]
  },
  {
   "cell_type": "markdown",
   "metadata": {
    "editable": true,
    "slideshow": {
     "slide_type": "fragment"
    },
    "tags": []
   },
   "source": [
    "### `\\\\` - Diagonal"
   ]
  },
  {
   "cell_type": "code",
   "execution_count": 18,
   "metadata": {
    "editable": true,
    "slideshow": {
     "slide_type": ""
    },
    "tags": []
   },
   "outputs": [
    {
     "name": "stdout",
     "output_type": "stream",
     "text": [
      "Nombre\\tApellido\\tEdad\n"
     ]
    }
   ],
   "source": [
    "print(\"Nombre\\\\tApellido\\\\tEdad\")"
   ]
  },
  {
   "cell_type": "markdown",
   "metadata": {
    "editable": true,
    "slideshow": {
     "slide_type": "fragment"
    },
    "tags": []
   },
   "source": [
    "### `\\'` y `\\\"`"
   ]
  },
  {
   "cell_type": "code",
   "execution_count": 19,
   "metadata": {
    "editable": true,
    "slideshow": {
     "slide_type": ""
    },
    "tags": []
   },
   "outputs": [
    {
     "name": "stdout",
     "output_type": "stream",
     "text": [
      "Vivimos en \"democracia\"\n",
      "Ella dijo: 'Que se armen las chelas'\n"
     ]
    }
   ],
   "source": [
    "print(\"Vivimos en \\\"democracia\\\"\")\n",
    "print('Ella dijo: \\'Que se armen las chelas\\'')"
   ]
  },
  {
   "cell_type": "markdown",
   "metadata": {
    "editable": true,
    "slideshow": {
     "slide_type": "subslide"
    },
    "tags": []
   },
   "source": [
    "### Comentarios"
   ]
  },
  {
   "cell_type": "markdown",
   "metadata": {
    "editable": true,
    "slideshow": {
     "slide_type": "fragment"
    },
    "tags": []
   },
   "source": [
    "Los comentarios son **notas** que explícan alguna línea de código o secciones de un programa. Los comentario son parte del programa, pero el interprete de `python` los ignorará. Los comentarios **son para las personas** que quieran leer nuestro código fuente."
   ]
  },
  {
   "cell_type": "code",
   "execution_count": 24,
   "metadata": {
    "editable": true,
    "slideshow": {
     "slide_type": "subslide"
    },
    "tags": []
   },
   "outputs": [
    {
     "name": "stdout",
     "output_type": "stream",
     "text": [
      "54040\n",
      "Z80\n",
      "42\n"
     ]
    }
   ],
   "source": [
    "# Esto es un comentario inútil\n",
    "\n",
    "print(\"54040\")  # Imprime el código postal \n",
    "print(\"Z80\")  # Imprime el modelo del procesador\n",
    "\n",
    "\"\"\" \n",
    "La siguiente seccion describe la respuesta a:\n",
    "* El universo\n",
    "* La vida\n",
    "* Todo lo demás\n",
    "        \n",
    "\"\"\"\n",
    "print(\"42\")"
   ]
  },
  {
   "cell_type": "markdown",
   "metadata": {
    "editable": true,
    "slideshow": {
     "slide_type": ""
    },
    "tags": []
   },
   "source": [
    "Como programadoras iniciantes puede que nos resistamos a la idea de escribir comentarios. Es importante que te tomes tu tiempo para dejar estas notas en tu código. Seguramente te ayudarán a recordar (quizá) que hacia tu código y como lo hacía en el futuro.\n",
    "\n",
    "<center><img src=\"https://www.boredpanda.com/blog/wp-content/uploads/2021/12/6-61ae21aeaaaf1__700.jpg\" width=500></center>"
   ]
  },
  {
   "cell_type": "markdown",
   "metadata": {
    "editable": true,
    "slideshow": {
     "slide_type": "subslide"
    },
    "tags": []
   },
   "source": [
    "## F-strings (básico)"
   ]
  },
  {
   "cell_type": "code",
   "execution_count": null,
   "metadata": {
    "editable": true,
    "slideshow": {
     "slide_type": "fragment"
    },
    "tags": []
   },
   "outputs": [],
   "source": [
    "libro = \"Los de abajo\"\n",
    "autora = \"Mariano Azuela\""
   ]
  },
  {
   "cell_type": "code",
   "execution_count": null,
   "metadata": {
    "editable": true,
    "slideshow": {
     "slide_type": "fragment"
    },
    "tags": []
   },
   "outputs": [],
   "source": [
    "print(\"El libro es \" + libro + \" y el autor es \" + autora)"
   ]
  },
  {
   "cell_type": "code",
   "execution_count": null,
   "metadata": {
    "editable": true,
    "slideshow": {
     "slide_type": ""
    },
    "tags": []
   },
   "outputs": [],
   "source": [
    "print(f\"El libro es {libro} y el autor es {autora}\")"
   ]
  },
  {
   "cell_type": "code",
   "execution_count": null,
   "metadata": {
    "editable": true,
    "slideshow": {
     "slide_type": ""
    },
    "tags": []
   },
   "outputs": [],
   "source": [
    "print(f\"El resultado es {2 + 10}\")"
   ]
  },
  {
   "cell_type": "code",
   "execution_count": 5,
   "metadata": {
    "editable": true,
    "slideshow": {
     "slide_type": "fragment"
    },
    "tags": []
   },
   "outputs": [
    {
     "name": "stdout",
     "output_type": "stream",
     "text": [
      "El balance es $8943.24\n"
     ]
    }
   ],
   "source": [
    "balance = 8943.243412\n",
    "print(f\"El balance es ${balance:.2f}\")"
   ]
  },
  {
   "cell_type": "markdown",
   "metadata": {
    "editable": true,
    "slideshow": {
     "slide_type": ""
    },
    "tags": []
   },
   "source": [
    "## Ejercicio"
   ]
  },
  {
   "cell_type": "markdown",
   "metadata": {
    "editable": true,
    "slideshow": {
     "slide_type": ""
    },
    "tags": []
   },
   "source": [
    "### Escribe en pantalla una lista de que desayunaste\n",
    "\n",
    "- Utiliza `'`, `\"` y `\"\"\"`\n",
    "- Utiliza secuencias de escape\n",
    "- Agrega comentarios "
   ]
  },
  {
   "cell_type": "code",
   "execution_count": null,
   "metadata": {
    "editable": true,
    "slideshow": {
     "slide_type": ""
    },
    "tags": []
   },
   "outputs": [],
   "source": [
    "# Tu código bonito acá :)"
   ]
  },
  {
   "cell_type": "markdown",
   "metadata": {
    "editable": true,
    "slideshow": {
     "slide_type": "subslide"
    },
    "tags": []
   },
   "source": [
    "## Variables\n",
    "\n",
    "`variable = expresión`\n",
    "\n",
    "**Una Variable es un nombre que representa valores guardados en la memoria de la computadora**\n",
    "\n"
   ]
  },
  {
   "cell_type": "markdown",
   "metadata": {
    "editable": true,
    "slideshow": {
     "slide_type": "fragment"
    },
    "tags": []
   },
   "source": [
    "Un programa utiliza las variables para acceder a datos en memoria y realizar operaciones con esos datos. Para crear una variable utilizamos el **operador de asignación** (`=`). Despues de que se ejecuta una línea con este operador la variable es creada con referencia a cierto valor."
   ]
  },
  {
   "cell_type": "code",
   "execution_count": 11,
   "metadata": {
    "editable": true,
    "slideshow": {
     "slide_type": "fragment"
    },
    "tags": []
   },
   "outputs": [
    {
     "name": "stdout",
     "output_type": "stream",
     "text": [
      "Mi edad es de 30\n",
      "Tu edad es de 25 . Feliz cumpleaños 🎁!!!\n"
     ]
    }
   ],
   "source": [
    "birth_year = 1995\n",
    "actual_year = 2025\n",
    "\n",
    "# Asignando el valor de 29 a la variable edad\n",
    "edad = actual_year - birth_year\n",
    "print(\"Mi edad es de \" + str(edad))\n",
    "\n",
    "# Modificando la variable\n",
    "birth_year = 2000\n",
    "edad = actual_year - birth_year\n",
    "print(\"Tu edad es de\", edad, \". Feliz cumpleaños 🎁!!!\")"
   ]
  },
  {
   "cell_type": "markdown",
   "metadata": {
    "editable": true,
    "slideshow": {
     "slide_type": "subslide"
    },
    "tags": []
   },
   "source": [
    "### NOTA\n",
    "\n",
    "No se puede utilizar una variable hasta que no se le haya asignado un valor. En caso contrario un error se mostrará al intentar realizar alguna operación en alguna variable, como imprimirla antes de su asignación"
   ]
  },
  {
   "cell_type": "code",
   "execution_count": 12,
   "metadata": {
    "editable": true,
    "slideshow": {
     "slide_type": "fragment"
    },
    "tags": []
   },
   "outputs": [
    {
     "ename": "NameError",
     "evalue": "name 'temperetura' is not defined",
     "output_type": "error",
     "traceback": [
      "\u001b[31m---------------------------------------------------------------------------\u001b[39m",
      "\u001b[31mNameError\u001b[39m                                 Traceback (most recent call last)",
      "\u001b[36mCell\u001b[39m\u001b[36m \u001b[39m\u001b[32mIn[12]\u001b[39m\u001b[32m, line 2\u001b[39m\n\u001b[32m      1\u001b[39m temperatura = \u001b[32m30\u001b[39m\n\u001b[32m----> \u001b[39m\u001b[32m2\u001b[39m \u001b[38;5;28mprint\u001b[39m(\u001b[43mtemperetura\u001b[49m)\n",
      "\u001b[31mNameError\u001b[39m: name 'temperetura' is not defined"
     ]
    }
   ],
   "source": [
    "temperatura = 30\n",
    "print(temperetura)"
   ]
  },
  {
   "cell_type": "markdown",
   "metadata": {
    "editable": true,
    "slideshow": {
     "slide_type": "subslide"
    },
    "tags": []
   },
   "source": [
    "## Reglas para crear buenas variables\n",
    "\n",
    "Para crear variables en python se tienen que seguir algunas reglas importantes:"
   ]
  },
  {
   "cell_type": "markdown",
   "metadata": {
    "editable": true,
    "slideshow": {
     "slide_type": "fragment"
    },
    "tags": []
   },
   "source": [
    "### * No se pueden usar las palabras reservadas de python"
   ]
  },
  {
   "cell_type": "code",
   "execution_count": 27,
   "metadata": {
    "editable": true,
    "slideshow": {
     "slide_type": "fragment"
    },
    "tags": []
   },
   "outputs": [
    {
     "name": "stdout",
     "output_type": "stream",
     "text": [
      "False | None | True | and | as | assert | async | await | break | class | continue | def | del | elif | else | except | finally | for | from | global | if | import | in | is | lambda | nonlocal | not | or | pass | raise | return | try | while | with | yield | "
     ]
    }
   ],
   "source": [
    "import keyword\n",
    "\n",
    "for key in keyword.kwlist:\n",
    "    print(key, end=' | ')"
   ]
  },
  {
   "cell_type": "markdown",
   "metadata": {
    "editable": true,
    "slideshow": {
     "slide_type": "fragment"
    },
    "tags": []
   },
   "source": [
    "### * Una variable no puede contener espacios\n",
    "\n",
    "`numero de vidas = 1000` ❌\n",
    "\n",
    "`numero_de_vidas = 1000` ✔️"
   ]
  },
  {
   "cell_type": "markdown",
   "metadata": {
    "editable": true,
    "slideshow": {
     "slide_type": "subslide"
    },
    "tags": []
   },
   "source": [
    "### * El primer caracter debe ser una letra [a-zA-Z] o un guion bajo [_]\n",
    "\n",
    "`3_veces = 3` ❌\n",
    "\n",
    "`1000xenginering = \"To bad\"` ❌\n",
    "\n",
    "`pelicula = \"Las locuras del emperador\"` ✔️"
   ]
  },
  {
   "cell_type": "markdown",
   "metadata": {
    "editable": true,
    "slideshow": {
     "slide_type": "fragment"
    },
    "tags": []
   },
   "source": [
    "### * Después del primer caracter puedes usar letras, números o guines bajos"
   ]
  },
  {
   "cell_type": "markdown",
   "metadata": {
    "editable": true,
    "slideshow": {
     "slide_type": "fragment"
    },
    "tags": []
   },
   "source": [
    "### * Mayúsculas y minúsculas son variables distintas\n",
    "\n",
    "`mismamente != Mismamente != MISMAMENTE != mIsMaMeNtE`\n",
    "\n"
   ]
  },
  {
   "cell_type": "markdown",
   "metadata": {
    "editable": true,
    "slideshow": {
     "slide_type": "subslide"
    },
    "tags": []
   },
   "source": [
    "<center><img src=\"img/variables.jpg\" width=500></center>"
   ]
  },
  {
   "cell_type": "markdown",
   "metadata": {
    "editable": true,
    "slideshow": {
     "slide_type": "subslide"
    },
    "tags": []
   },
   "source": [
    "## Quiz"
   ]
  },
  {
   "cell_type": "markdown",
   "metadata": {
    "editable": true,
    "slideshow": {
     "slide_type": "fragment"
    },
    "tags": []
   },
   "source": [
    "```python\n",
    "x\n",
    "12monos\n",
    "julio2025\n",
    "totalVentasTrimestre\n",
    "r&d\n",
    "grade_report\n",
    "```"
   ]
  },
  {
   "cell_type": "markdown",
   "metadata": {
    "editable": true,
    "slideshow": {
     "slide_type": "subslide"
    },
    "tags": []
   },
   "source": [
    "## Tipos de datos básicos"
   ]
  },
  {
   "cell_type": "code",
   "execution_count": 16,
   "metadata": {
    "editable": true,
    "slideshow": {
     "slide_type": "fragment"
    },
    "tags": []
   },
   "outputs": [],
   "source": [
    "dormitorio = 503  # Entero -> int\n",
    "\n",
    "euler = 2.71828182  # Flotante -> float\n",
    "\n",
    "is_dead = False  # Booleano -> Bool\n",
    "\n",
    "is_dead_inside = True\n",
    "\n",
    "nombre_lomito = 'Mantequillo'  # Cadena -> str\n",
    "\n",
    "euler = \"Leonhard Euler\"\n",
    "\n",
    "euler = 2.71828182  # Flotante -> float"
   ]
  },
  {
   "cell_type": "code",
   "execution_count": null,
   "metadata": {
    "editable": true,
    "slideshow": {
     "slide_type": "fragment"
    },
    "tags": []
   },
   "outputs": [],
   "source": [
    "print(type(dormitorio))"
   ]
  },
  {
   "cell_type": "markdown",
   "metadata": {
    "editable": true,
    "slideshow": {
     "slide_type": "subslide"
    },
    "tags": []
   },
   "source": [
    "### Integrando todo lo visto"
   ]
  },
  {
   "cell_type": "code",
   "execution_count": 6,
   "metadata": {
    "editable": true,
    "slideshow": {
     "slide_type": "fragment"
    },
    "tags": []
   },
   "outputs": [
    {
     "name": "stdout",
     "output_type": "stream",
     "text": [
      "La palabra del día es igneas\n",
      "\n",
      "Jacobo dos dos\n",
      "\n",
      "La lista de comida es\n",
      "|||Manzana|||Tomate|||Leche\n",
      "Total = $50.5\n",
      "\n",
      "\tLa frase de la derecha es falsa <-> La frase de la izquierda es verdadera\n"
     ]
    }
   ],
   "source": [
    "# Imprime la palabra del día\n",
    "palabra = \"igneas\"\n",
    "print(f\"La palabra del día es {palabra}\")\n",
    "\n",
    "# Nombre de caricatura dosmilera\n",
    "nombre = \"\\nJacobo\"\n",
    "print(nombre + \" dos dos\")\n",
    "\n",
    "# Lista de compras\n",
    "fruta = \"Manzana\"\n",
    "verdura = \"Tomate\"\n",
    "liquido = \"Leche\"\n",
    "total = 50.50\n",
    "print(\"\\nLa lista de comida es\\n\", fruta, verdura, liquido, sep='|||')\n",
    "print(f\"Total = ${total}\")\n",
    "\n",
    "# Una paradoja\n",
    "print(\"\\n\\tLa frase de la derecha es falsa <\", end=\"\")\n",
    "print(\"-> La frase de la izquierda es verdadera\")"
   ]
  },
  {
   "cell_type": "markdown",
   "metadata": {
    "editable": true,
    "slideshow": {
     "slide_type": "subslide"
    },
    "tags": []
   },
   "source": [
    "## Entrada de datos por teclado\n",
    "\n",
    "**El programa necesita datos. Esos datos, por el momento, vendrá del teclado**. Al leer datos del teclado usualmente deberemos guardarlos en una variable para poder utilizarlos más adelante."
   ]
  },
  {
   "cell_type": "markdown",
   "metadata": {
    "editable": true,
    "slideshow": {
     "slide_type": "fragment"
    },
    "tags": []
   },
   "source": [
    "<center><img src=\"img/keyboard.jpg\" width=500></center>"
   ]
  },
  {
   "cell_type": "markdown",
   "metadata": {
    "editable": true,
    "slideshow": {
     "slide_type": "subslide"
    },
    "tags": []
   },
   "source": [
    "Para leer datos de teclado utilizaremos la función *built-in* `input()`. Esta función lee los datos del teclado de la usuaria y los guarda como *strings*.\n",
    "\n",
    "```python\n",
    "variable = input(prompt)`\n",
    "```"
   ]
  },
  {
   "cell_type": "code",
   "execution_count": null,
   "metadata": {
    "editable": true,
    "slideshow": {
     "slide_type": "fragment"
    },
    "tags": []
   },
   "outputs": [],
   "source": [
    "# Esto toma el nombre y el apellido y los imprime\n",
    "# TODO: Implementalo en vivo\n",
    "print(\"Nombre completo\", nombre, apellido)"
   ]
  },
  {
   "cell_type": "markdown",
   "metadata": {
    "editable": true,
    "slideshow": {
     "slide_type": "subslide"
    },
    "tags": []
   },
   "source": [
    "## Leyendo números con `input()`"
   ]
  },
  {
   "cell_type": "markdown",
   "metadata": {
    "editable": true,
    "slideshow": {
     "slide_type": "fragment"
    },
    "tags": []
   },
   "source": [
    "La función `input()` siempre devolverá la entrada de la usuaria como string, incluso si se introducen números. Por ejemplo si la usuaria escribe `42` el valor asignado a la variable sera `'42'`. Esto será un problema si queremos realizar operaciones numéricas ya que las operaciones númericas solo pueden operarse sobre números, no *strings*. Afortunadamente, `python` tiene funciones *built-in* para lidiar con estos casos"
   ]
  },
  {
   "cell_type": "markdown",
   "metadata": {
    "editable": true,
    "slideshow": {
     "slide_type": "fragment"
    },
    "tags": []
   },
   "source": [
    "- `int(item)`: el argumento `item` pasado a esta función será convertido a número entero.\n",
    "- `float(item)`: El argumento `item` pasado a esta función será convertido a número flotante."
   ]
  },
  {
   "cell_type": "code",
   "execution_count": 14,
   "metadata": {
    "editable": true,
    "slideshow": {
     "slide_type": "subslide"
    },
    "tags": []
   },
   "outputs": [
    {
     "name": "stdin",
     "output_type": "stream",
     "text": [
      "¿Cuantas horas trabajaste?  10\n"
     ]
    },
    {
     "name": "stdout",
     "output_type": "stream",
     "text": [
      "Te quedan 14 horas del día\n"
     ]
    }
   ],
   "source": [
    "str_horas = input(\"¿Cuantas horas trabajaste? \")\n",
    "horas = int(str_horas)\n",
    "print(f\"Te quedan {24 - horas} horas del día\")"
   ]
  },
  {
   "cell_type": "markdown",
   "metadata": {
    "editable": true,
    "slideshow": {
     "slide_type": ""
    },
    "tags": []
   },
   "source": [
    "La solución anterior es apropiada pero ineficiente porque tenemos que crear dos variables, una para el valor en *string* (que no es de nuestro interés) y otra para el valor numérico. Podemos usar otro enfoqué combinando ambas líneas en una sola."
   ]
  },
  {
   "cell_type": "code",
   "execution_count": 15,
   "metadata": {
    "editable": true,
    "slideshow": {
     "slide_type": ""
    },
    "tags": []
   },
   "outputs": [
    {
     "name": "stdin",
     "output_type": "stream",
     "text": [
      "¿Cuantas horas trabajaste?  9\n"
     ]
    },
    {
     "name": "stdout",
     "output_type": "stream",
     "text": [
      "Te quedan 15 horas del día\n"
     ]
    }
   ],
   "source": [
    "horas = int(input(\"¿Cuantas horas trabajaste? \"))\n",
    "print(f\"Te quedan {24 - horas} horas del día\")"
   ]
  },
  {
   "cell_type": "markdown",
   "metadata": {
    "editable": true,
    "slideshow": {
     "slide_type": "slide"
    },
    "tags": []
   },
   "source": [
    "## Ejercicio"
   ]
  },
  {
   "cell_type": "markdown",
   "metadata": {
    "editable": true,
    "slideshow": {
     "slide_type": "subslide"
    },
    "tags": []
   },
   "source": [
    "### Leyendo flotantes\n",
    "\n",
    "Escribe un programa que pida la usuaria la cotización del dolar a pesos hoy y la cantidad de dolares que tiene. El programa debe mostrar la conversión de dolares a pesos\n",
    "\n",
    "#### Ejemplo\n",
    "\n",
    "```python\n",
    ">> Ingresa la cotización del dolar: 19.19\n",
    ">> Ingresa la cantidad de dólares: 5\n",
    ">> Conversión: $19.19 -> $95.95\n",
    "```"
   ]
  },
  {
   "cell_type": "code",
   "execution_count": 16,
   "metadata": {
    "editable": true,
    "slideshow": {
     "slide_type": "fragment"
    },
    "tags": []
   },
   "outputs": [],
   "source": [
    "# Tu código bonito acá :)"
   ]
  },
  {
   "cell_type": "markdown",
   "metadata": {
    "editable": true,
    "slideshow": {
     "slide_type": "subslide"
    },
    "tags": []
   },
   "source": [
    "### Casteo o conversión de tipos"
   ]
  },
  {
   "cell_type": "markdown",
   "metadata": {
    "editable": true,
    "slideshow": {
     "slide_type": "fragment"
    },
    "tags": []
   },
   "source": [
    "<center><img src=\"https://i.kym-cdn.com/entries/icons/facebook/000/038/748/Screen_Shot_2021-11-03_at_12.03.40_PM.jpg\" width=500><center>"
   ]
  },
  {
   "cell_type": "code",
   "execution_count": 30,
   "metadata": {
    "editable": true,
    "slideshow": {
     "slide_type": "fragment"
    },
    "tags": []
   },
   "outputs": [
    {
     "name": "stdout",
     "output_type": "stream",
     "text": [
      "40 es de tipo <class 'str'>\n",
      "40 es de tipo <class 'int'>\n"
     ]
    }
   ],
   "source": [
    "total = \"40\"\n",
    "print(total, \"es de tipo\", type(total))\n",
    "total_entero = int(total)\n",
    "print(total_entero, \"es de tipo\", type(total_entero))"
   ]
  },
  {
   "cell_type": "code",
   "execution_count": 31,
   "metadata": {
    "editable": true,
    "slideshow": {
     "slide_type": "fragment"
    },
    "tags": []
   },
   "outputs": [
    {
     "name": "stdout",
     "output_type": "stream",
     "text": [
      "PI era de tipo <class 'str'> ahora es <class 'float'>\n"
     ]
    }
   ],
   "source": [
    "pi = \"3.14\"\n",
    "print(\"PI era de tipo\", type(pi), \"ahora es\", type(float(pi)))"
   ]
  },
  {
   "cell_type": "code",
   "execution_count": 33,
   "metadata": {
    "editable": true,
    "slideshow": {
     "slide_type": "fragment"
    },
    "tags": []
   },
   "outputs": [
    {
     "name": "stdout",
     "output_type": "stream",
     "text": [
      "Mi sueldo es = 100\n"
     ]
    }
   ],
   "source": [
    "mi_sueldo = 100\n",
    "print(\"Mi sueldo es = \" + str(mi_sueldo))"
   ]
  },
  {
   "cell_type": "code",
   "execution_count": 38,
   "metadata": {
    "editable": true,
    "slideshow": {
     "slide_type": "fragment"
    },
    "tags": []
   },
   "outputs": [
    {
     "name": "stdout",
     "output_type": "stream",
     "text": [
      "Mi computadora es bonita? False\n"
     ]
    }
   ],
   "source": [
    "es_bonito = 0\n",
    "print(\"Mi computadora es bonita?\", bool(es_bonito))"
   ]
  },
  {
   "cell_type": "markdown",
   "metadata": {
    "editable": true,
    "slideshow": {
     "slide_type": "subslide"
    },
    "tags": []
   },
   "source": [
    "### Notas importantes"
   ]
  },
  {
   "cell_type": "markdown",
   "metadata": {
    "editable": true,
    "slideshow": {
     "slide_type": ""
    },
    "tags": []
   },
   "source": [
    "- **Perdida de precisión:** Convertir de `float` a `int` implica una perdida de los valores despues del punto decimal\n",
    "- **Cadenas vacías:** La cadena vacía es convertida a `False`. Cualquier cadena no vacía será `True`\n",
    "- **Valores cero:** El cero `0` es convertido a `False`. Cualquier valor que no sea cero será `True`"
   ]
  },
  {
   "cell_type": "markdown",
   "metadata": {
    "editable": true,
    "slideshow": {
     "slide_type": "slide"
    },
    "tags": []
   },
   "source": [
    "### Resolviendo el bug de la calculadora 🐞"
   ]
  },
  {
   "cell_type": "code",
   "execution_count": null,
   "metadata": {
    "editable": true,
    "slideshow": {
     "slide_type": "fragment"
    },
    "tags": []
   },
   "outputs": [],
   "source": [
    "# TODO: Resuelve el problema de la calculadora buggeada"
   ]
  },
  {
   "cell_type": "markdown",
   "metadata": {
    "editable": true,
    "slideshow": {
     "slide_type": "subslide"
    },
    "tags": []
   },
   "source": [
    "### Hagamos algunos cálculos\n",
    "\n",
    "<center><img src=\"img/operadores.png\" width=700></center>"
   ]
  },
  {
   "cell_type": "code",
   "execution_count": 39,
   "metadata": {
    "editable": true,
    "slideshow": {
     "slide_type": "fragment"
    },
    "tags": []
   },
   "outputs": [
    {
     "name": "stdout",
     "output_type": "stream",
     "text": [
      "Tu paga es de $1200\n"
     ]
    }
   ],
   "source": [
    "salario = 1000\n",
    "bono = 200\n",
    "pago = salario + bono\n",
    "print(f\"Tu paga es de ${pago}\")"
   ]
  },
  {
   "cell_type": "code",
   "execution_count": 17,
   "metadata": {
    "editable": true,
    "slideshow": {
     "slide_type": "fragment"
    },
    "tags": []
   },
   "outputs": [
    {
     "name": "stdout",
     "output_type": "stream",
     "text": [
      "8x8=64\n"
     ]
    }
   ],
   "source": [
    "print(f\"8x8={8*8}\")"
   ]
  },
  {
   "cell_type": "code",
   "execution_count": 40,
   "metadata": {
    "editable": true,
    "slideshow": {
     "slide_type": "fragment"
    },
    "tags": []
   },
   "outputs": [
    {
     "name": "stdout",
     "output_type": "stream",
     "text": [
      "Toca de a 5.0 manzanas por persona\n"
     ]
    }
   ],
   "source": [
    "manzanas = 10\n",
    "personas = 2\n",
    "piezas = manzanas / personas\n",
    "print(f\"Toca de a {piezas} manzanas por persona\")"
   ]
  },
  {
   "cell_type": "code",
   "execution_count": 44,
   "metadata": {
    "editable": true,
    "slideshow": {
     "slide_type": "fragment"
    },
    "tags": []
   },
   "outputs": [
    {
     "name": "stdout",
     "output_type": "stream",
     "text": [
      "Tu calificacion final es 8\n"
     ]
    }
   ],
   "source": [
    "mate = 10\n",
    "literatura = 8\n",
    "fisica = 7\n",
    "promedio = (mate + literatura + fisica) // 3\n",
    "print(f\"Tu calificacion final es {promedio}\")"
   ]
  },
  {
   "cell_type": "code",
   "execution_count": 22,
   "metadata": {
    "editable": true,
    "slideshow": {
     "slide_type": "fragment"
    },
    "tags": []
   },
   "outputs": [
    {
     "name": "stdout",
     "output_type": "stream",
     "text": [
      "Residuo 1\n"
     ]
    }
   ],
   "source": [
    "dividendo = 7\n",
    "divisor = 3\n",
    "print(f\"Residuo {dividendo % divisor}\")"
   ]
  },
  {
   "cell_type": "code",
   "execution_count": 31,
   "metadata": {
    "editable": true,
    "slideshow": {
     "slide_type": ""
    },
    "tags": []
   },
   "outputs": [
    {
     "name": "stdout",
     "output_type": "stream",
     "text": [
      "E=7,200,000,000,000,000,000\n"
     ]
    }
   ],
   "source": [
    "C = 3 * 10 ** 8  # [m/s]\n",
    "masa = 80  # [kg]\n",
    "energia = masa * C ** 2\n",
    "print(f\"E={energia:,}\")"
   ]
  },
  {
   "cell_type": "markdown",
   "metadata": {
    "editable": true,
    "slideshow": {
     "slide_type": "subslide"
    },
    "tags": []
   },
   "source": [
    "### Jerarquía de operadores"
   ]
  },
  {
   "cell_type": "markdown",
   "metadata": {
    "editable": true,
    "slideshow": {
     "slide_type": "fragment"
    },
    "tags": []
   },
   "source": [
    "Los operadores tienen una jerarquía que debe seguirse para garantizar un resultado correcto.\n",
    "\n",
    "1. Potencia `[**]`\n",
    "2. Producto, divisiones y modulo `[* / // %]`\n",
    "3. Adiciones y sustracciones `[+ -]` "
   ]
  },
  {
   "cell_type": "markdown",
   "metadata": {
    "editable": true,
    "slideshow": {
     "slide_type": "fragment"
    },
    "tags": []
   },
   "source": [
    "**NOTA: Si hay paréntesis primero se resuelven operaciones dentro de paréntesis.**"
   ]
  },
  {
   "cell_type": "markdown",
   "metadata": {
    "editable": true,
    "slideshow": {
     "slide_type": ""
    },
    "tags": []
   },
   "source": [
    "```\n",
    "6 + 3 * 5 = ?\n",
    "12 / 2 − 4 =  ?\n",
    "9 + 14 * 2 − 6 = ?\n",
    "(6 + 3) * 5 = ?\n",
    "12 / (2 − 4) =  ?\n",
    "9 + 14 * (2 − 6) = ?\n",
    "```"
   ]
  },
  {
   "cell_type": "markdown",
   "metadata": {
    "editable": true,
    "slideshow": {
     "slide_type": "slide"
    },
    "tags": []
   },
   "source": [
    "## Ejercicio"
   ]
  },
  {
   "cell_type": "markdown",
   "metadata": {
    "editable": true,
    "slideshow": {
     "slide_type": ""
    },
    "tags": []
   },
   "source": [
    "### Suma dos valores con punto decimal"
   ]
  },
  {
   "cell_type": "markdown",
   "metadata": {
    "editable": true,
    "slideshow": {
     "slide_type": ""
    },
    "tags": []
   },
   "source": [
    "Modifica la calculadora que suma dos números enteros para que ahora sume dos número con punto decimal."
   ]
  },
  {
   "cell_type": "markdown",
   "metadata": {
    "editable": true,
    "slideshow": {
     "slide_type": ""
    },
    "tags": []
   },
   "source": [
    "#### Ejemplo\n",
    "\n",
    "```python\n",
    ">> Ingresa el primer numero:  1.1\n",
    ">> Ingresa el segundo numero: 2.2\n",
    ">> Resultado: 3.3\n",
    "```"
   ]
  },
  {
   "cell_type": "code",
   "execution_count": null,
   "metadata": {
    "editable": true,
    "slideshow": {
     "slide_type": ""
    },
    "tags": []
   },
   "outputs": [],
   "source": [
    "# Tu código bonito acá :)"
   ]
  },
  {
   "cell_type": "markdown",
   "metadata": {
    "editable": true,
    "slideshow": {
     "slide_type": ""
    },
    "tags": []
   },
   "source": [
    "### Conversor de grados °C a °F"
   ]
  },
  {
   "cell_type": "markdown",
   "metadata": {
    "editable": true,
    "slideshow": {
     "slide_type": ""
    },
    "tags": []
   },
   "source": [
    "Realiza un programa que convierta grados Celsius a grados Fahrenheit. **Nota:** `°F = °C * 1.8 + 32`"
   ]
  },
  {
   "cell_type": "markdown",
   "metadata": {
    "editable": true,
    "slideshow": {
     "slide_type": ""
    },
    "tags": []
   },
   "source": [
    "#### Ejemplo\n",
    "\n",
    "```python\n",
    ">> Ingresa los grados °C a convertir: 30\n",
    ">> 30[°C] equivalen a 80[°F]\n",
    "```"
   ]
  },
  {
   "cell_type": "code",
   "execution_count": null,
   "metadata": {
    "editable": true,
    "slideshow": {
     "slide_type": ""
    },
    "tags": []
   },
   "outputs": [],
   "source": [
    "# Tu código bonito acá :)"
   ]
  },
  {
   "cell_type": "markdown",
   "metadata": {
    "editable": true,
    "slideshow": {
     "slide_type": ""
    },
    "tags": []
   },
   "source": [
    "### Calcula el descuento"
   ]
  },
  {
   "cell_type": "markdown",
   "metadata": {
    "editable": true,
    "slideshow": {
     "slide_type": ""
    },
    "tags": []
   },
   "source": [
    "Realiza el programa que, dado un porcentaje de descuento, calcule el precio a pagar por un artículo una vez aplicado dicho descuento. El programa deberá pedir a la usuaria dos números con punto decimal. El primer número será el precio de un artículo. El segundo número será el porcentaje de descuento en formato con punto decimal (10% -> 0.1). El programa deberá mostrar el precio a pagar por el artículo una vez aplicado el descuento."
   ]
  },
  {
   "cell_type": "markdown",
   "metadata": {
    "editable": true,
    "slideshow": {
     "slide_type": ""
    },
    "tags": []
   },
   "source": [
    "#### Ejemplo\n",
    "\n",
    "```python\n",
    ">> Ingresa el precio del articulo: 100\n",
    ">> Ingresa el porcentaje de descuento: 0.5\n",
    ">> El descuento es de $50.0\n",
    ">> El precio final a pagar es de $50.0\n",
    "```"
   ]
  },
  {
   "cell_type": "code",
   "execution_count": null,
   "metadata": {
    "editable": true,
    "slideshow": {
     "slide_type": ""
    },
    "tags": []
   },
   "outputs": [],
   "source": [
    "# Tu código bonito acá :)"
   ]
  },
  {
   "cell_type": "markdown",
   "metadata": {
    "editable": true,
    "slideshow": {
     "slide_type": "subslide"
    },
    "tags": []
   },
   "source": [
    "### Referecias"
   ]
  },
  {
   "cell_type": "markdown",
   "metadata": {
    "editable": true,
    "slideshow": {
     "slide_type": ""
    },
    "tags": []
   },
   "source": [
    "- https://en.wikipedia.org/wiki/Escape_sequence\n",
    "- https://www.spss-tutorials.com/escape-sequence/"
   ]
  }
 ],
 "metadata": {
  "kernelspec": {
   "display_name": "Python 3 (ipykernel)",
   "language": "python",
   "name": "python3"
  },
  "language_info": {
   "codemirror_mode": {
    "name": "ipython",
    "version": 3
   },
   "file_extension": ".py",
   "mimetype": "text/x-python",
   "name": "python",
   "nbconvert_exporter": "python",
   "pygments_lexer": "ipython3",
   "version": "3.13.5"
  }
 },
 "nbformat": 4,
 "nbformat_minor": 4
}
