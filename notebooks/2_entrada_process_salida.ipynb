{
 "cells": [
  {
   "cell_type": "markdown",
   "metadata": {
    "editable": true,
    "slideshow": {
     "slide_type": ""
    },
    "tags": []
   },
   "source": [
    "<p align=\"center\">\n",
    "<a target=\"_blank\" href=\"https://colab.research.google.com/github/umoqnier/python-human-course-2025/blob/main/notebooks/2_entrada_process_salida.ipynb\">\n",
    "    <img src=\"https://colab.research.google.com/assets/colab-badge.svg\" alt=\"Open In Colab\"/>\n",
    "</a>\n",
    "</p> "
   ]
  },
  {
   "cell_type": "markdown",
   "metadata": {
    "editable": true,
    "slideshow": {
     "slide_type": "slide"
    },
    "tags": []
   },
   "source": [
    "# Entrada, procesamiento y salida\n",
    "\n",
    "<center><img src=\"img/putput.jpg\"></center>"
   ]
  },
  {
   "cell_type": "markdown",
   "metadata": {
    "editable": true,
    "slideshow": {
     "slide_type": "slide"
    },
    "tags": []
   },
   "source": [
    "## La entrada (*intput*) son datos que el programa recibe. Cuando un programa recibe estos datos los procesa con ciertas operaciones. El resultado es enviado fuera del programa como salida (*output*)"
   ]
  },
  {
   "cell_type": "markdown",
   "metadata": {
    "editable": true,
    "slideshow": {
     "slide_type": "subslide"
    },
    "tags": []
   },
   "source": [
    "## Impresión en pantalla"
   ]
  },
  {
   "cell_type": "code",
   "execution_count": null,
   "metadata": {
    "editable": true,
    "slideshow": {
     "slide_type": "fragment"
    },
    "tags": []
   },
   "outputs": [],
   "source": [
    "# TODO: Ejemplos"
   ]
  },
  {
   "cell_type": "code",
   "execution_count": 6,
   "metadata": {
    "editable": true,
    "slideshow": {
     "slide_type": ""
    },
    "tags": []
   },
   "outputs": [],
   "source": [
    "# TODO: Ejemplos con argumentos"
   ]
  },
  {
   "cell_type": "code",
   "execution_count": 5,
   "metadata": {
    "editable": true,
    "slideshow": {
     "slide_type": "fragment"
    },
    "tags": []
   },
   "outputs": [
    {
     "ename": "SyntaxError",
     "evalue": "invalid decimal literal (3205267822.py, line 1)",
     "output_type": "error",
     "traceback": [
      "  \u001b[36mCell\u001b[39m\u001b[36m \u001b[39m\u001b[32mIn[5]\u001b[39m\u001b[32m, line 1\u001b[39m\n\u001b[31m    \u001b[39m\u001b[31mprint('2. Entonces ¿pa' qué quiere saber eso? no soy 100tifiko')\u001b[39m\n                                                           ^\n\u001b[31mSyntaxError\u001b[39m\u001b[31m:\u001b[39m invalid decimal literal\n"
     ]
    }
   ],
   "source": [
    "print('2. Entonces ¿pa' qué quiere saber eso? no soy 100tifiko')"
   ]
  },
  {
   "cell_type": "markdown",
   "metadata": {
    "editable": true,
    "slideshow": {
     "slide_type": "subslide"
    },
    "tags": []
   },
   "source": [
    "### Strings\n",
    "\n",
    "El texto que conocemos puede verse como cadenas de letras pegadas unas con otras. Dichas cadenas son conocidas como *strings*. En `python` las *strings* se marcan con comillas dobles `\"`, simples `'` o triples `\"\"\"`."
   ]
  },
  {
   "cell_type": "code",
   "execution_count": 17,
   "metadata": {
    "editable": true,
    "slideshow": {
     "slide_type": "fragment"
    },
    "tags": []
   },
   "outputs": [
    {
     "name": "stdout",
     "output_type": "stream",
     "text": [
      "1. Esta cadena se ve profesional\n",
      "2. Entonces ¿pa' qué quiere saber eso? no soy 100tifiko\n",
      "3. El dijo \"Pero señor son niños\" y yo le dije \"robare los necesarios para salvar esta compañía\"\n",
      "4. Creo que mi ma' esta en casa y me grito \"mete la ropa\"\n",
      "5. La ruta del archivo es es C:\\diego\n",
      "omada\n",
      "\n",
      "                                    Lista para las compras:\n",
      "                                    -----------------------\n",
      "\n",
      "                                    1. Espincas\n",
      "                                    2. Queso philadelphia\n",
      "                                    3. Cebolla\n",
      "                                    4. Caldo de tomate\n",
      "\n"
     ]
    },
    {
     "name": "stderr",
     "output_type": "stream",
     "text": [
      "<>:5: SyntaxWarning: invalid escape sequence '\\d'\n",
      "<>:5: SyntaxWarning: invalid escape sequence '\\d'\n",
      "/tmp/ipykernel_12793/337150480.py:5: SyntaxWarning: invalid escape sequence '\\d'\n",
      "  print('5. La ruta del archivo es es C:\\diego\\nomada')\n"
     ]
    }
   ],
   "source": [
    "print('1. Esta cadena se ve profesional')\n",
    "print(\"2. Entonces ¿pa\\' qué quiere saber eso? no soy 100tifiko\")\n",
    "print('3. El dijo \"Pero señor son niños\" y yo le dije \"robare los necesarios para salvar esta compañía\"')\n",
    "print(\"4. Creo que mi ma' esta en casa y me grito \\\"mete la ropa\\\"\")\n",
    "print('5. La ruta del archivo es es C:\\diego\\nomada')\n",
    "print(\"\"\"\n",
    "                                    Lista para las compras:\n",
    "                                    -----------------------\n",
    "\n",
    "                                    1. Espincas\n",
    "                                    2. Queso philadelphia\n",
    "                                    3. Cebolla\n",
    "                                    4. Caldo de tomate\n",
    "\"\"\")\n"
   ]
  },
  {
   "cell_type": "code",
   "execution_count": 24,
   "metadata": {
    "editable": true,
    "slideshow": {
     "slide_type": "subslide"
    },
    "tags": []
   },
   "outputs": [
    {
     "name": "stdout",
     "output_type": "stream",
     "text": [
      "Hola Enfermera\n"
     ]
    }
   ],
   "source": [
    "print(\"Hola\" + \" \" + \"Enfermera\")"
   ]
  },
  {
   "cell_type": "code",
   "execution_count": 25,
   "metadata": {
    "editable": true,
    "slideshow": {
     "slide_type": "fragment"
    },
    "tags": []
   },
   "outputs": [
    {
     "name": "stdout",
     "output_type": "stream",
     "text": [
      "na na na na na BATMAN!!!\n"
     ]
    }
   ],
   "source": [
    "print('na ' * 5 + \"BATMAN!!!\")"
   ]
  },
  {
   "cell_type": "code",
   "execution_count": null,
   "metadata": {
    "editable": true,
    "slideshow": {
     "slide_type": "subslide"
    },
    "tags": []
   },
   "outputs": [],
   "source": [
    "lenguaje = \"Python\"\n",
    "print(lenguaje[0])\n",
    "print(lenguaje[1])\n",
    "print(lenguaje[2])\n",
    "print(lenguaje[3])\n",
    "print(lenguaje[4])\n",
    "print(lenguaje[5])\n",
    "print(\"=\"*10)\n",
    "print(lenguaje[-1])\n",
    "print(lenguaje[-2])\n",
    "print(lenguaje[-3])\n",
    "print(lenguaje[-4])\n",
    "print(lenguaje[-5])\n",
    "print(lenguaje[-6])"
   ]
  },
  {
   "cell_type": "markdown",
   "metadata": {
    "editable": true,
    "slideshow": {
     "slide_type": ""
    },
    "tags": []
   },
   "source": [
    "```\n",
    " +---+---+---+---+---+---+\n",
    " | P | y | t | h | o | n |\n",
    " +---+---+---+---+---+---+\n",
    " 0   1   2   3   4   5   6\n",
    "-6  -5  -4  -3  -2  -1\n",
    "```"
   ]
  },
  {
   "cell_type": "code",
   "execution_count": null,
   "metadata": {
    "editable": true,
    "slideshow": {
     "slide_type": "fragment"
    },
    "tags": []
   },
   "outputs": [],
   "source": [
    "print(lenguaje[:4])"
   ]
  },
  {
   "cell_type": "markdown",
   "metadata": {
    "editable": true,
    "slideshow": {
     "slide_type": "subslide"
    },
    "tags": []
   },
   "source": [
    "### Comentarios"
   ]
  },
  {
   "cell_type": "code",
   "execution_count": 9,
   "metadata": {
    "editable": true,
    "slideshow": {
     "slide_type": "fragment"
    },
    "tags": []
   },
   "outputs": [
    {
     "name": "stdout",
     "output_type": "stream",
     "text": [
      "54040\n",
      "Z80\n",
      "42\n"
     ]
    }
   ],
   "source": [
    "# Esto es un comentario inútil\n",
    "\n",
    "print(\"54040\")  # Imprime el código postal \n",
    "print(\"Z80\")  # Imprime el modelo del procesador\n",
    "\n",
    "\"\"\" \n",
    "La siguiente seccion describe la respuesta a:\n",
    "* El universo\n",
    "* La vida\n",
    "* Todo lo demás\n",
    "        \n",
    "\"\"\"\n",
    "print(\"42\")"
   ]
  },
  {
   "cell_type": "markdown",
   "metadata": {
    "editable": true,
    "slideshow": {
     "slide_type": "subslide"
    },
    "tags": []
   },
   "source": [
    "## Format y F-strings"
   ]
  },
  {
   "cell_type": "code",
   "execution_count": 10,
   "metadata": {
    "editable": true,
    "slideshow": {
     "slide_type": "fragment"
    },
    "tags": []
   },
   "outputs": [
    {
     "name": "stdout",
     "output_type": "stream",
     "text": [
      "El valor de PI es 3.14159\n",
      "Mi casa tiene 250 metros cuadrados u cuesta $ 10000000.38\n",
      "La edad de mi gato es 9 años\n",
      "El libro es Los de abajo\n",
      "El libro es Los de abajo\n",
      "El resultado es 12\n"
     ]
    }
   ],
   "source": [
    "print(\"El valor de {constante} es {valor:.5f}\".format(constante=\"PI\", valor=3.14159265))\n",
    "\n",
    "print(\"Mi casa tiene {0} metros cuadrados u cuesta $ {1:.2f}\".format(250, 10000000.3838338))\n",
    "\n",
    "print(\"La edad de mi gato es {edad_gato} años\".format(edad_gato=9))\n",
    "\n",
    "libro = \"Los de abajo\"\n",
    "\n",
    "print(f\"El libro es {libro}\")\n",
    "\n",
    "print(\"El libro es \" + libro)\n",
    "\n",
    "print(f\"El resultado es {2 + 10}\")"
   ]
  },
  {
   "cell_type": "markdown",
   "metadata": {
    "editable": true,
    "slideshow": {
     "slide_type": "subslide"
    },
    "tags": []
   },
   "source": [
    "## Variables\n",
    "\n",
    "`variable = expresión`\n",
    "\n",
    "**Una Variable es un nombre que representa valores guardados en la memoria de la computadora**\n",
    "\n"
   ]
  },
  {
   "cell_type": "code",
   "execution_count": null,
   "metadata": {
    "editable": true,
    "slideshow": {
     "slide_type": "fragment"
    },
    "tags": []
   },
   "outputs": [],
   "source": [
    "edad = 24  # Asignando el valor de 24 a la variable edad\n",
    "print(\"Mi edad es de \" + str(edad))\n",
    "\n",
    "edad = 25\n",
    "print(\"Ahora mi edad es de\", edad, \"Feliz cumpleaños!!!\")"
   ]
  },
  {
   "cell_type": "markdown",
   "metadata": {
    "editable": true,
    "slideshow": {
     "slide_type": "subslide"
    },
    "tags": []
   },
   "source": [
    "## Reglas para crear buenas variables\n",
    "\n",
    "Para crear variables en python se tienen que seguir algunas reglas importantes:"
   ]
  },
  {
   "cell_type": "markdown",
   "metadata": {
    "editable": true,
    "slideshow": {
     "slide_type": "fragment"
    },
    "tags": []
   },
   "source": [
    "### * No se pueden usar las palabras reservadas de python"
   ]
  },
  {
   "cell_type": "code",
   "execution_count": 15,
   "metadata": {
    "editable": true,
    "slideshow": {
     "slide_type": "fragment"
    },
    "tags": []
   },
   "outputs": [
    {
     "name": "stdout",
     "output_type": "stream",
     "text": [
      "False | None | True | and | as | assert | async | await | break | class | continue | def | del | elif | else | except | finally | for | from | global | if | import | in | is | lambda | nonlocal | not | or | pass | raise | return | try | while | with | yield | "
     ]
    }
   ],
   "source": [
    "import keyword\n",
    "\n",
    "for key in keyword.kwlist:\n",
    "    print(key, end=' | ')"
   ]
  },
  {
   "cell_type": "markdown",
   "metadata": {
    "editable": true,
    "slideshow": {
     "slide_type": "fragment"
    },
    "tags": []
   },
   "source": [
    "### * Una variable no puede contener espacios\n",
    "\n",
    "`numero de vidas = 1000` ❌\n",
    "\n",
    "`numero_de_vidas = 1000` ✔️"
   ]
  },
  {
   "cell_type": "markdown",
   "metadata": {
    "editable": true,
    "slideshow": {
     "slide_type": "subslide"
    },
    "tags": []
   },
   "source": [
    "### * El primer caracter debe ser una letra [a-zA-Z] o un guion bajo [_]\n",
    "\n",
    "`3_veces = 3` ❌\n",
    "\n",
    "`1000xenginering = \"To bad\"` ❌\n",
    "\n",
    "`pelicula = \"Las locuras del emperador\"` ✔️"
   ]
  },
  {
   "cell_type": "markdown",
   "metadata": {
    "editable": true,
    "slideshow": {
     "slide_type": "fragment"
    },
    "tags": []
   },
   "source": [
    "### * Después del primer caracter puedes usar letras, números o guines bajos"
   ]
  },
  {
   "cell_type": "markdown",
   "metadata": {
    "editable": true,
    "slideshow": {
     "slide_type": "fragment"
    },
    "tags": []
   },
   "source": [
    "### * Mayúsculas y minúsculas son variables distintas\n",
    "\n",
    "`mismamente != Mismamente != MISMAMENTE != mIsMaMeNtE`\n",
    "\n"
   ]
  },
  {
   "cell_type": "markdown",
   "metadata": {
    "editable": true,
    "slideshow": {
     "slide_type": "subslide"
    },
    "tags": []
   },
   "source": [
    "<center><img src=\"img/variables.jpg\" width=500></center>"
   ]
  },
  {
   "cell_type": "markdown",
   "metadata": {
    "editable": true,
    "slideshow": {
     "slide_type": "subslide"
    },
    "tags": []
   },
   "source": [
    "## Tipos de datos básicos"
   ]
  },
  {
   "cell_type": "code",
   "execution_count": 16,
   "metadata": {
    "editable": true,
    "slideshow": {
     "slide_type": "fragment"
    },
    "tags": []
   },
   "outputs": [],
   "source": [
    "dormitorio = 503  # Entero -> int\n",
    "\n",
    "euler = 2.71828182  # Flotante -> float\n",
    "\n",
    "is_dead = False  # Booleano -> Bool\n",
    "\n",
    "is_dead_inside = True\n",
    "\n",
    "nombre_lomito = 'Mantequillo'  # Cadena -> str\n",
    "\n",
    "euler = \"Leonhard Euler\"\n",
    "\n",
    "euler = 2.71828182  # Flotante -> float"
   ]
  },
  {
   "cell_type": "code",
   "execution_count": null,
   "metadata": {
    "editable": true,
    "slideshow": {
     "slide_type": "fragment"
    },
    "tags": []
   },
   "outputs": [],
   "source": [
    "print(type(dormitorio))"
   ]
  },
  {
   "cell_type": "markdown",
   "metadata": {
    "editable": true,
    "slideshow": {
     "slide_type": "subslide"
    },
    "tags": []
   },
   "source": [
    "### Integrando todo lo visto"
   ]
  },
  {
   "cell_type": "code",
   "execution_count": 23,
   "metadata": {
    "editable": true,
    "slideshow": {
     "slide_type": "fragment"
    },
    "tags": []
   },
   "outputs": [
    {
     "name": "stdout",
     "output_type": "stream",
     "text": [
      "La palabra del día es igneas\n",
      "\n",
      "Jacobo dos dos\n",
      "\n",
      "La lista de comida es\n",
      "|||Manzana|||Tomate|||Leche\n",
      "Total=$50.5\n",
      "\n",
      "\tLa frase de la derecha es falsa <-> La frase de la izquierda es verdadera\n"
     ]
    }
   ],
   "source": [
    "# Imprime la palabra del día\n",
    "palabra = \"igneas\"\n",
    "print(\"La palabra del día es \" + palabra)\n",
    "\n",
    "# Nombre de caricatura dosmilera\n",
    "nombre = \"\\nJacobo\"\n",
    "print(nombre + \" dos\" * 2)\n",
    "\n",
    "# Lista de compras\n",
    "fruta = \"Manzana\"\n",
    "verdura = \"Tomate\"\n",
    "liquido = \"Leche\"\n",
    "total = 50.50\n",
    "print(\"\\nLa lista de comida es\\n\", fruta, verdura, liquido, sep='|||')\n",
    "print(f\"Total = ${total}\")\n",
    "\n",
    "# Una paradoja\n",
    "print(\"\\n\\tLa frase de la derecha es falsa <\", end=\"\")\n",
    "print(\"-> La frase de la izquierda es verdadera\")"
   ]
  },
  {
   "cell_type": "markdown",
   "metadata": {
    "editable": true,
    "slideshow": {
     "slide_type": "subslide"
    },
    "tags": []
   },
   "source": [
    "### Entrada de datos por teclado\n",
    "\n",
    "```python\n",
    "variable = input(prompt)`\n",
    "```\n",
    "\n",
    "**El programa necesita datos, esos datos al inicio de nuestros programas vendrá seguramente del teclado**\n",
    "\n",
    "<center><img src=\"img/keyboard.jpg\" width=500></center>"
   ]
  },
  {
   "cell_type": "code",
   "execution_count": null,
   "metadata": {
    "editable": true,
    "slideshow": {
     "slide_type": "subslide"
    },
    "tags": []
   },
   "outputs": [],
   "source": [
    "# Esto toma el nombre y el apellido y los imprime\n",
    "# TODO: implement\n",
    "# TODO: Promnts\n",
    "print(\"Nombre completo\", nombre, apellido)"
   ]
  },
  {
   "cell_type": "markdown",
   "metadata": {
    "editable": true,
    "slideshow": {
     "slide_type": "subslide"
    },
    "tags": []
   },
   "source": [
    "### Casteo o conversión de tipos"
   ]
  },
  {
   "cell_type": "code",
   "execution_count": null,
   "metadata": {
    "editable": true,
    "slideshow": {
     "slide_type": "fragment"
    },
    "tags": []
   },
   "outputs": [],
   "source": [
    "total = \"40\""
   ]
  },
  {
   "cell_type": "markdown",
   "metadata": {
    "editable": true,
    "slideshow": {
     "slide_type": "slide"
    },
    "tags": []
   },
   "source": [
    "### Ejercicio"
   ]
  },
  {
   "cell_type": "code",
   "execution_count": null,
   "metadata": {
    "editable": true,
    "slideshow": {
     "slide_type": "subslide"
    },
    "tags": []
   },
   "outputs": [],
   "source": [
    "# Implementa la calculadora que solo suma número enteros\n",
    "\n",
    "numero_1 = input(\"Ingresa el numero 1>> \")\n",
    "numero_numero = float(numero_1)\n",
    "numero_2 = input(\"Ingresa numero 2>> \")\n",
    "numero_numero_2 = float(numero_2)\n",
    "\n",
    "resultado = numero_numero + numero_numero_2\n",
    "\n",
    "print(resultado)"
   ]
  },
  {
   "cell_type": "markdown",
   "metadata": {
    "editable": true,
    "slideshow": {
     "slide_type": "subslide"
    },
    "tags": []
   },
   "source": [
    "### Hagamos algunos cálculos\n",
    "\n",
    "![operadores](img/operadores.png)"
   ]
  },
  {
   "cell_type": "markdown",
   "metadata": {
    "editable": true,
    "slideshow": {
     "slide_type": "subslide"
    },
    "tags": []
   },
   "source": [
    "### Jerarquía de operadores\n"
   ]
  },
  {
   "cell_type": "markdown",
   "metadata": {
    "editable": true,
    "slideshow": {
     "slide_type": "fragment"
    },
    "tags": []
   },
   "source": [
    "Los operadores tienen una jerarquía que debe seguirse para garantizar un resultado correcto.\n",
    "\n",
    "1. Potencia `[**]`\n",
    "2. Producto, divisiones y modulo `[* / // %]`\n",
    "3. Adiciones y sustracciones `[+ -]` "
   ]
  },
  {
   "cell_type": "markdown",
   "metadata": {
    "editable": true,
    "slideshow": {
     "slide_type": "fragment"
    },
    "tags": []
   },
   "source": [
    "**NOTA: Si hay paréntesis primero se resuelven operaciones dentro de paréntesis.**"
   ]
  },
  {
   "cell_type": "markdown",
   "metadata": {
    "editable": true,
    "slideshow": {
     "slide_type": "fragment"
    },
    "tags": []
   },
   "source": [
    "![](img/ex1.png)"
   ]
  },
  {
   "cell_type": "markdown",
   "metadata": {
    "editable": true,
    "slideshow": {
     "slide_type": "subslide"
    },
    "tags": []
   },
   "source": [
    "![](img/ex2.png)"
   ]
  },
  {
   "cell_type": "markdown",
   "metadata": {
    "editable": true,
    "slideshow": {
     "slide_type": "slide"
    },
    "tags": []
   },
   "source": [
    "## Ejercicios"
   ]
  },
  {
   "cell_type": "code",
   "execution_count": 26,
   "metadata": {
    "editable": true,
    "slideshow": {
     "slide_type": "subslide"
    },
    "tags": []
   },
   "outputs": [],
   "source": [
    "# Conversor de Grados C a F  F = C * 1.8 + 32"
   ]
  },
  {
   "cell_type": "code",
   "execution_count": null,
   "metadata": {
    "editable": true,
    "slideshow": {
     "slide_type": "subslide"
    },
    "tags": []
   },
   "outputs": [],
   "source": [
    "# Calculo de descuento\n",
    "# El programa recibe dos números. El primero es el precio de un artículo\n",
    "# y el segundo es un porcentaje de descuento en formato con punto decimal.\n",
    "# Ej: \n",
    "# Da el precio real>> 100\n",
    "# Da el descuento en porcentaje como número flotante>> 0.5\n",
    "# El descuento es de $50.0\n",
    "# El precio a pagar es de $50.0"
   ]
  }
 ],
 "metadata": {
  "kernelspec": {
   "display_name": "Python 3 (ipykernel)",
   "language": "python",
   "name": "python3"
  },
  "language_info": {
   "codemirror_mode": {
    "name": "ipython",
    "version": 3
   },
   "file_extension": ".py",
   "mimetype": "text/x-python",
   "name": "python",
   "nbconvert_exporter": "python",
   "pygments_lexer": "ipython3",
   "version": "3.13.3"
  }
 },
 "nbformat": 4,
 "nbformat_minor": 4
}
